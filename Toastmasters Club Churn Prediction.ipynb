{
 "cells": [
  {
   "cell_type": "markdown",
   "id": "859927ed",
   "metadata": {},
   "source": [
    "# Lisbon MBA Toastmasters enjoy giving feedback to speakers\n",
    "\n",
    "Toastmasters is a non-profit organisation that provides a space for its members to learn public speaking and leadership skills through deliberate practice and constant feedback about this practice, under a structured development program. The Lisbon MBA Toastmasters Club is a Toastmasters club located in the Nova School of Business and Economics, in Carcavelos, Portugal.\n",
    "\n",
    "At each Toastmasters meeting, each member can perform one of a multitude of roles that allow them to enhance their leadership and public speaking skills. Meetings at the Lisbon MBA Toastmasters Club take place on Wednesdays, every two weeks.\n",
    "\n",
    "For this development program to succeed, it is essential for the club to retain a minimum number of members in order to form an encouraging and dynamic learning environment in which members provide feedback to each other during their developmental process. It is therefore essential for the club to provide the conditions for members to remain committed to their learning journey. \n",
    "\n",
    "We would like to maximize member retention in the Lisbon MBA Toastmaster Club. For that purpose, I predict when a member is thinking about leaving the club and assess which roles, once taken more frequently by a member, may make more difference between a member staying and leaving the club. These insights may allow the Club Executive Committee to intervene in order to incentivize members to stay, on one hand, and encourage members to take some roles more frequently in order to gain commitment to their skill development, on the other hand. We gathered meeting data from current and past members of the Lisbon MBA Toastmasters Club to predict whether they stayed or left the club through a variety of classification models. The dataset only includes meetings that occurred during the 2022/2023 season. Our dataset is small, so I have built many different classification models in order to capture insights that can be captured across different models.\n",
    "\n",
    "I have found that:\n",
    "\n",
    "- ### Members missing more than $40$ days of meetings are probably leaving the club;\n",
    "- ### Evaluator is the most important role separating members that stay from members that leave;\n",
    "- ### Speaker and table topic speaker are likely important roles, as expected, but evidence here is inconsistent."
   ]
  },
  {
   "cell_type": "markdown",
   "id": "be48cadc",
   "metadata": {},
   "source": [
    "Do members become more commited to their development after taking on these roles? \n",
    "\n",
    "Or do they take on these roles ever more frequently after they gain more commitment to their developmental journey?\n",
    "\n",
    "Perhaps a bit of both, but perhaps the Executive Committee can help members remain committed to their journey.\n",
    "\n",
    "\n",
    "\n",
    "### I therefore recommend the Club Executive Committee to:\n",
    "- ### Encourage members to take on the evaluator, the speaker and the table topic speaker roles as soon as possible after joining the club\n",
    "- ### Engage with members who have been missing more than two Toastmasters meetings in a row. "
   ]
  },
  {
   "cell_type": "markdown",
   "id": "0b3c881c",
   "metadata": {},
   "source": [
    "In a club that meets twice a month, a member misses meetings for $28$ days by missing two sessions in a row; by missing a third session in a row, the member will be missing over $40$ days of meetings already.\n",
    "\n",
    "Below I show the classification models that led me to these insights."
   ]
  },
  {
   "cell_type": "markdown",
   "id": "3d7caefe",
   "metadata": {},
   "source": [
    "## Table of Contents"
   ]
  },
  {
   "cell_type": "markdown",
   "id": "6d480a7c",
   "metadata": {},
   "source": [
    "[Importing members and features](#data)\n",
    "\n",
    "[Correlation between features](#correlation)\n",
    "\n",
    "[Modeling churn I: Using Meetings Attended, Last Presence and Joined](#churn1)\n",
    "\n",
    "[Modeling churn II: Using meeting roles only](#churn2)\n",
    "\n",
    "[Discussion](#discussion)"
   ]
  },
  {
   "cell_type": "markdown",
   "id": "9b1148c1",
   "metadata": {},
   "source": [
    "## Importing packages"
   ]
  },
  {
   "cell_type": "code",
   "execution_count": 1,
   "id": "9f7431f0",
   "metadata": {},
   "outputs": [],
   "source": [
    "import pandas as pd\n",
    "import datetime as dt\n",
    "import matplotlib.pyplot as plt\n",
    "from matplotlib.colors import ListedColormap\n",
    "import numpy as np\n",
    "import seaborn as sns\n",
    "\n",
    "from sklearn.preprocessing import StandardScaler\n",
    "from sklearn.tree import DecisionTreeClassifier, plot_tree\n",
    "from sklearn.model_selection import train_test_split, GridSearchCV\n",
    "from sklearn.metrics import classification_report\n",
    "from sklearn.svm import LinearSVC\n",
    "from sklearn.inspection import permutation_importance\n",
    "from sklearn.neighbors import KNeighborsClassifier\n",
    "from sklearn.linear_model import LogisticRegression\n",
    "\n",
    "from sklearn.metrics import accuracy_score, recall_score, confusion_matrix\n",
    "from sklearn.ensemble import RandomForestClassifier\n",
    "import lightgbm as lgb\n",
    "from statsmodels.stats.multitest import multipletests\n",
    "\n",
    "import warnings\n",
    "warnings.filterwarnings('ignore')"
   ]
  },
  {
   "cell_type": "markdown",
   "id": "c5918af7",
   "metadata": {},
   "source": [
    "## Defining functions"
   ]
  },
  {
   "cell_type": "code",
   "execution_count": 2,
   "id": "74c780dd",
   "metadata": {},
   "outputs": [],
   "source": [
    "# Plotting a confusion matrix in tones of blue\n",
    "def plot_confusion_matrix(y,y_predict, title='Confusion Matrix'):\n",
    "    \"this function plots the confusion matrix\"\n",
    "\n",
    "    sns.set(rc={\"figure.figsize\":(4, 3)})\n",
    "    cm = confusion_matrix(y, y_predict)\n",
    "    ax= plt.subplot()\n",
    "    sns.heatmap(cm, cmap='Blues', annot=True, ax = ax); #annot=True to annotate cells\n",
    "    ax.set_xlabel('Prediction')\n",
    "    ax.set_ylabel('Reality')\n",
    "    ax.set_title(title); \n",
    "    ax.xaxis.set_ticklabels(['Stayed', 'Left']); ax.yaxis.set_ticklabels(['Stayed', 'Left'])"
   ]
  },
  {
   "cell_type": "code",
   "execution_count": 3,
   "id": "e49e4957",
   "metadata": {},
   "outputs": [],
   "source": [
    "#A function to define the bar plot colours given a statistical significance, which will be determined through hypothesis testing\n",
    "#of the permutation importances. In that procedure, the p-value will be the probability that the permutation importance is\n",
    "#non-positive. Then, a Benjamini-Hochberg multiple comparison procedure is applied.\n",
    "\n",
    "def barplot_colours(feature_importances):\n",
    "    '''Calculates p-values (with a Benjamini-Hochberg correction using the number of features) \n",
    "    using the permutation importance that make a probability density distribution under the null hypothesis'''\n",
    "    fi_uncorrected_p = [np.sum(feature_importances[i]<=0)/feature_importances.shape[1] for i in range(feature_importances.shape[0])]\n",
    "    fi_corrected_p = multipletests(fi_uncorrected_p, method='fdr_bh')\n",
    "    fi = {'reject': fi_corrected_p[0].tolist(), 'p_value': fi_corrected_p[1].tolist(), 'colour': ['red' if fi_corrected_p[0].tolist()[i] else 'blue' for i in range(feature_importances.shape[0])]} \n",
    "    return fi"
   ]
  },
  {
   "cell_type": "markdown",
   "id": "12fe41b5",
   "metadata": {},
   "source": [
    "<a id='data'></a>\n",
    "## Importing members and features"
   ]
  },
  {
   "cell_type": "markdown",
   "id": "67bbaf77",
   "metadata": {},
   "source": [
    "For each member, we have the following features:\n",
    "- `Last Presence` - when the last meeting the member has attended took place;\n",
    "- `Joined` - when the member joined the club;\n",
    "- `Meetings Attended` - fraction of meetings the member has attended in the 2022/2023 season, i.e. the quotient between the number of meetings attended and the number of meetings that took place during membership.\n",
    "- `Year Meetings as Member` - the number of meetings that took place in the 2022/2023 season since the member has joined the club.\n",
    "\n",
    "All remaining features refer to the many different meeting roles. They represent the number of times the member has taken on a given role at a meeting during the 2022/2023 season. The roles under analysis are:\n",
    "- Toastmaster, `TME` - the meeting's director and host;\n",
    "- `Speaker` - prepares, rehearses and presents a speech during the club meeting;\n",
    "- `Evaluator` - provides verbal and written feedback to a meeting speaker;\n",
    "- Table topics master, `TTM` - delivers the Table Topics portion of the meeting, which helps train members to quickly organize and express their thoughts in an _impromptu_ setting;\n",
    "- Table topic speaker, `TTS` - delivers an _impromptu_ speech on a topic provided by the table topics master;\n",
    "- Timekeeper, `TK` - monitors time for each meeting segment and each intervention during the meeting;\n",
    "- Ah-counter, `AhC` - takes note of all overused words or filler sounds used by other members during their interventions at the meeting;\n",
    "- Grammarian, `Gr` - introduces new words to meeting participants and monitors the language and grammar usage by all members, noting incomplete sentences, mispronunciations, grammatical mistakes, non-sequiturs, malapropisms, etc;\n",
    "- General evaluator, `GE` - evaluates everything that takes place during the club meeting.\n",
    "\n",
    "`Churn` is our response variable, taking a value of $1$ if the member has left the club and $0$ if a member has stayed in the club."
   ]
  },
  {
   "cell_type": "code",
   "execution_count": 4,
   "id": "d7009109",
   "metadata": {
    "scrolled": true
   },
   "outputs": [
    {
     "data": {
      "text/html": [
       "<div>\n",
       "<style scoped>\n",
       "    .dataframe tbody tr th:only-of-type {\n",
       "        vertical-align: middle;\n",
       "    }\n",
       "\n",
       "    .dataframe tbody tr th {\n",
       "        vertical-align: top;\n",
       "    }\n",
       "\n",
       "    .dataframe thead th {\n",
       "        text-align: right;\n",
       "    }\n",
       "</style>\n",
       "<table border=\"1\" class=\"dataframe\">\n",
       "  <thead>\n",
       "    <tr style=\"text-align: right;\">\n",
       "      <th></th>\n",
       "      <th>Joined</th>\n",
       "      <th>TME</th>\n",
       "      <th>GE</th>\n",
       "      <th>TTM</th>\n",
       "      <th>Speaker</th>\n",
       "      <th>Evaluator</th>\n",
       "      <th>TTS</th>\n",
       "      <th>TK</th>\n",
       "      <th>AhC</th>\n",
       "      <th>Gr</th>\n",
       "      <th>Last Presence</th>\n",
       "      <th>Meetings Attended</th>\n",
       "      <th>Year Meetings as Member</th>\n",
       "      <th>Churn</th>\n",
       "    </tr>\n",
       "    <tr>\n",
       "      <th>Member</th>\n",
       "      <th></th>\n",
       "      <th></th>\n",
       "      <th></th>\n",
       "      <th></th>\n",
       "      <th></th>\n",
       "      <th></th>\n",
       "      <th></th>\n",
       "      <th></th>\n",
       "      <th></th>\n",
       "      <th></th>\n",
       "      <th></th>\n",
       "      <th></th>\n",
       "      <th></th>\n",
       "      <th></th>\n",
       "    </tr>\n",
       "  </thead>\n",
       "  <tbody>\n",
       "    <tr>\n",
       "      <th>0DUskTCnCDPiF2Ra9je5UiVR2b7W</th>\n",
       "      <td>23-01-2023</td>\n",
       "      <td>0</td>\n",
       "      <td>0</td>\n",
       "      <td>1</td>\n",
       "      <td>1</td>\n",
       "      <td>0</td>\n",
       "      <td>0</td>\n",
       "      <td>0</td>\n",
       "      <td>1</td>\n",
       "      <td>0</td>\n",
       "      <td>15-05-2023</td>\n",
       "      <td>0.50</td>\n",
       "      <td>14</td>\n",
       "      <td>1</td>\n",
       "    </tr>\n",
       "    <tr>\n",
       "      <th>2MmBWKdDt6Bv7jksDvSZM4SgZ9wJ</th>\n",
       "      <td>22-11-2016</td>\n",
       "      <td>1</td>\n",
       "      <td>1</td>\n",
       "      <td>3</td>\n",
       "      <td>1</td>\n",
       "      <td>1</td>\n",
       "      <td>1</td>\n",
       "      <td>3</td>\n",
       "      <td>1</td>\n",
       "      <td>3</td>\n",
       "      <td>26-07-2023</td>\n",
       "      <td>0.87</td>\n",
       "      <td>23</td>\n",
       "      <td>0</td>\n",
       "    </tr>\n",
       "    <tr>\n",
       "      <th>2Z1PQ9200RyXzg9WbTa10S4igYeK</th>\n",
       "      <td>01-04-2022</td>\n",
       "      <td>0</td>\n",
       "      <td>0</td>\n",
       "      <td>1</td>\n",
       "      <td>3</td>\n",
       "      <td>0</td>\n",
       "      <td>3</td>\n",
       "      <td>1</td>\n",
       "      <td>2</td>\n",
       "      <td>0</td>\n",
       "      <td>12-07-2023</td>\n",
       "      <td>0.74</td>\n",
       "      <td>23</td>\n",
       "      <td>0</td>\n",
       "    </tr>\n",
       "    <tr>\n",
       "      <th>6TW4zYLA2cnSi8gDvbknHASu3atN</th>\n",
       "      <td>22-03-2022</td>\n",
       "      <td>1</td>\n",
       "      <td>0</td>\n",
       "      <td>1</td>\n",
       "      <td>2</td>\n",
       "      <td>0</td>\n",
       "      <td>4</td>\n",
       "      <td>1</td>\n",
       "      <td>3</td>\n",
       "      <td>2</td>\n",
       "      <td>26-07-2023</td>\n",
       "      <td>0.65</td>\n",
       "      <td>23</td>\n",
       "      <td>0</td>\n",
       "    </tr>\n",
       "    <tr>\n",
       "      <th>7a01j1pQcAlB5DVe6pUnwgLhhlY8</th>\n",
       "      <td>11-11-2021</td>\n",
       "      <td>0</td>\n",
       "      <td>0</td>\n",
       "      <td>0</td>\n",
       "      <td>0</td>\n",
       "      <td>0</td>\n",
       "      <td>0</td>\n",
       "      <td>0</td>\n",
       "      <td>0</td>\n",
       "      <td>0</td>\n",
       "      <td>29-06-2022</td>\n",
       "      <td>0.00</td>\n",
       "      <td>23</td>\n",
       "      <td>1</td>\n",
       "    </tr>\n",
       "  </tbody>\n",
       "</table>\n",
       "</div>"
      ],
      "text/plain": [
       "                                  Joined  TME  GE  TTM  Speaker  Evaluator  \\\n",
       "Member                                                                       \n",
       "0DUskTCnCDPiF2Ra9je5UiVR2b7W  23-01-2023    0   0    1        1          0   \n",
       "2MmBWKdDt6Bv7jksDvSZM4SgZ9wJ  22-11-2016    1   1    3        1          1   \n",
       "2Z1PQ9200RyXzg9WbTa10S4igYeK  01-04-2022    0   0    1        3          0   \n",
       "6TW4zYLA2cnSi8gDvbknHASu3atN  22-03-2022    1   0    1        2          0   \n",
       "7a01j1pQcAlB5DVe6pUnwgLhhlY8  11-11-2021    0   0    0        0          0   \n",
       "\n",
       "                              TTS  TK  AhC  Gr Last Presence  \\\n",
       "Member                                                         \n",
       "0DUskTCnCDPiF2Ra9je5UiVR2b7W    0   0    1   0    15-05-2023   \n",
       "2MmBWKdDt6Bv7jksDvSZM4SgZ9wJ    1   3    1   3    26-07-2023   \n",
       "2Z1PQ9200RyXzg9WbTa10S4igYeK    3   1    2   0    12-07-2023   \n",
       "6TW4zYLA2cnSi8gDvbknHASu3atN    4   1    3   2    26-07-2023   \n",
       "7a01j1pQcAlB5DVe6pUnwgLhhlY8    0   0    0   0    29-06-2022   \n",
       "\n",
       "                              Meetings Attended  Year Meetings as Member  \\\n",
       "Member                                                                     \n",
       "0DUskTCnCDPiF2Ra9je5UiVR2b7W               0.50                       14   \n",
       "2MmBWKdDt6Bv7jksDvSZM4SgZ9wJ               0.87                       23   \n",
       "2Z1PQ9200RyXzg9WbTa10S4igYeK               0.74                       23   \n",
       "6TW4zYLA2cnSi8gDvbknHASu3atN               0.65                       23   \n",
       "7a01j1pQcAlB5DVe6pUnwgLhhlY8               0.00                       23   \n",
       "\n",
       "                              Churn  \n",
       "Member                               \n",
       "0DUskTCnCDPiF2Ra9je5UiVR2b7W      1  \n",
       "2MmBWKdDt6Bv7jksDvSZM4SgZ9wJ      0  \n",
       "2Z1PQ9200RyXzg9WbTa10S4igYeK      0  \n",
       "6TW4zYLA2cnSi8gDvbknHASu3atN      0  \n",
       "7a01j1pQcAlB5DVe6pUnwgLhhlY8      1  "
      ]
     },
     "execution_count": 4,
     "metadata": {},
     "output_type": "execute_result"
    }
   ],
   "source": [
    "tm_member_info = pd.read_csv('TM members.csv',index_col='Member',decimal=',',\n",
    "                             usecols=['Member','Joined','Last Presence','TME','GE','TTM','Speaker','Evaluator','TTS','TK','AhC','Gr','Meetings Attended','Year Meetings as Member','Churn'])\n",
    "tm_member_info.head()"
   ]
  },
  {
   "cell_type": "code",
   "execution_count": 5,
   "id": "53eb5f93",
   "metadata": {
    "scrolled": false
   },
   "outputs": [],
   "source": [
    "member_fate = tm_member_info['Churn'].value_counts()\n",
    "fate_mapping = {0:'Stayed', 1:'Left'}\n",
    "member_fate_mapped = member_fate.rename(index=fate_mapping)"
   ]
  },
  {
   "cell_type": "markdown",
   "id": "df03314d",
   "metadata": {},
   "source": [
    "We have fairly balanced dataset on $28$ current and past members of Lisbon MBA Toastmasters, of which $53.6\\%$ are still at the club and $46.4\\%$ have left the club."
   ]
  },
  {
   "cell_type": "code",
   "execution_count": 6,
   "id": "5348de68",
   "metadata": {},
   "outputs": [
    {
     "data": {
      "image/png": "[encoded data removed]",
      "text/plain": [
       "<Figure size 500x600 with 1 Axes>"
      ]
     },
     "metadata": {},
     "output_type": "display_data"
    }
   ],
   "source": [
    "# autopct create %, start angle represent starting point\n",
    "member_fate_mapped.plot(kind='pie',\n",
    "                            figsize=(5, 6),\n",
    "                            startangle=30,     # start angle 90° (Africa)\n",
    "                            autopct='%1.1f%%', # add in percentages\n",
    "                            shadow=True,       # add shadow\n",
    "                            ylabel=None\n",
    "                            )\n",
    "\n",
    "plt.title('Fate of Lisbon MBA Toastmasters Members')\n",
    "plt.axis('equal') # Sets the pie chart to look like a circle.\n",
    "\n",
    "plt.show()"
   ]
  },
  {
   "cell_type": "code",
   "execution_count": 7,
   "id": "34cfa8c3",
   "metadata": {},
   "outputs": [
    {
     "data": {
      "text/html": [
       "<div>\n",
       "<style scoped>\n",
       "    .dataframe tbody tr th:only-of-type {\n",
       "        vertical-align: middle;\n",
       "    }\n",
       "\n",
       "    .dataframe tbody tr th {\n",
       "        vertical-align: top;\n",
       "    }\n",
       "\n",
       "    .dataframe thead th {\n",
       "        text-align: right;\n",
       "    }\n",
       "</style>\n",
       "<table border=\"1\" class=\"dataframe\">\n",
       "  <thead>\n",
       "    <tr style=\"text-align: right;\">\n",
       "      <th></th>\n",
       "      <th>Joined</th>\n",
       "      <th>TME</th>\n",
       "      <th>GE</th>\n",
       "      <th>TTM</th>\n",
       "      <th>Speaker</th>\n",
       "      <th>Evaluator</th>\n",
       "      <th>TTS</th>\n",
       "      <th>TK</th>\n",
       "      <th>AhC</th>\n",
       "      <th>Gr</th>\n",
       "      <th>Last Presence</th>\n",
       "      <th>Meetings Attended</th>\n",
       "      <th>Year Meetings as Member</th>\n",
       "      <th>Churn</th>\n",
       "    </tr>\n",
       "    <tr>\n",
       "      <th>Member</th>\n",
       "      <th></th>\n",
       "      <th></th>\n",
       "      <th></th>\n",
       "      <th></th>\n",
       "      <th></th>\n",
       "      <th></th>\n",
       "      <th></th>\n",
       "      <th></th>\n",
       "      <th></th>\n",
       "      <th></th>\n",
       "      <th></th>\n",
       "      <th></th>\n",
       "      <th></th>\n",
       "      <th></th>\n",
       "    </tr>\n",
       "  </thead>\n",
       "  <tbody>\n",
       "    <tr>\n",
       "      <th>0DUskTCnCDPiF2Ra9je5UiVR2b7W</th>\n",
       "      <td>2023-01-23</td>\n",
       "      <td>0</td>\n",
       "      <td>0</td>\n",
       "      <td>1</td>\n",
       "      <td>1</td>\n",
       "      <td>0</td>\n",
       "      <td>0</td>\n",
       "      <td>0</td>\n",
       "      <td>1</td>\n",
       "      <td>0</td>\n",
       "      <td>2023-05-15</td>\n",
       "      <td>0.50</td>\n",
       "      <td>14</td>\n",
       "      <td>1</td>\n",
       "    </tr>\n",
       "    <tr>\n",
       "      <th>2MmBWKdDt6Bv7jksDvSZM4SgZ9wJ</th>\n",
       "      <td>2016-11-22</td>\n",
       "      <td>1</td>\n",
       "      <td>1</td>\n",
       "      <td>3</td>\n",
       "      <td>1</td>\n",
       "      <td>1</td>\n",
       "      <td>1</td>\n",
       "      <td>3</td>\n",
       "      <td>1</td>\n",
       "      <td>3</td>\n",
       "      <td>2023-07-26</td>\n",
       "      <td>0.87</td>\n",
       "      <td>23</td>\n",
       "      <td>0</td>\n",
       "    </tr>\n",
       "  </tbody>\n",
       "</table>\n",
       "</div>"
      ],
      "text/plain": [
       "                                 Joined  TME  GE  TTM  Speaker  Evaluator  \\\n",
       "Member                                                                      \n",
       "0DUskTCnCDPiF2Ra9je5UiVR2b7W 2023-01-23    0   0    1        1          0   \n",
       "2MmBWKdDt6Bv7jksDvSZM4SgZ9wJ 2016-11-22    1   1    3        1          1   \n",
       "\n",
       "                              TTS  TK  AhC  Gr Last Presence  \\\n",
       "Member                                                         \n",
       "0DUskTCnCDPiF2Ra9je5UiVR2b7W    0   0    1   0    2023-05-15   \n",
       "2MmBWKdDt6Bv7jksDvSZM4SgZ9wJ    1   3    1   3    2023-07-26   \n",
       "\n",
       "                              Meetings Attended  Year Meetings as Member  \\\n",
       "Member                                                                     \n",
       "0DUskTCnCDPiF2Ra9je5UiVR2b7W               0.50                       14   \n",
       "2MmBWKdDt6Bv7jksDvSZM4SgZ9wJ               0.87                       23   \n",
       "\n",
       "                              Churn  \n",
       "Member                               \n",
       "0DUskTCnCDPiF2Ra9je5UiVR2b7W      1  \n",
       "2MmBWKdDt6Bv7jksDvSZM4SgZ9wJ      0  "
      ]
     },
     "execution_count": 7,
     "metadata": {},
     "output_type": "execute_result"
    }
   ],
   "source": [
    "#Converting dates `Last Presence` and `Joined` to the `datetime` type\n",
    "tm_member_info[['Joined','Last Presence']] = tm_member_info[['Joined','Last Presence']].apply(pd.to_datetime,dayfirst=True)\n",
    "tm_member_info.head(2)"
   ]
  },
  {
   "cell_type": "markdown",
   "id": "1bcee57f",
   "metadata": {},
   "source": [
    "Converting `Joined` and `Last Presence` to a time difference: we are using the number of days that have passed between the listed date and July $31^{st}$ 2023, the date we will use as a reference. This date closely follows the last meeting of the season."
   ]
  },
  {
   "cell_type": "code",
   "execution_count": 8,
   "id": "af8ac98d",
   "metadata": {
    "scrolled": true
   },
   "outputs": [
    {
     "data": {
      "text/html": [
       "<div>\n",
       "<style scoped>\n",
       "    .dataframe tbody tr th:only-of-type {\n",
       "        vertical-align: middle;\n",
       "    }\n",
       "\n",
       "    .dataframe tbody tr th {\n",
       "        vertical-align: top;\n",
       "    }\n",
       "\n",
       "    .dataframe thead th {\n",
       "        text-align: right;\n",
       "    }\n",
       "</style>\n",
       "<table border=\"1\" class=\"dataframe\">\n",
       "  <thead>\n",
       "    <tr style=\"text-align: right;\">\n",
       "      <th></th>\n",
       "      <th>Joined</th>\n",
       "      <th>TME</th>\n",
       "      <th>GE</th>\n",
       "      <th>TTM</th>\n",
       "      <th>Speaker</th>\n",
       "      <th>Evaluator</th>\n",
       "      <th>TTS</th>\n",
       "      <th>TK</th>\n",
       "      <th>AhC</th>\n",
       "      <th>Gr</th>\n",
       "      <th>Last Presence</th>\n",
       "      <th>Meetings Attended</th>\n",
       "      <th>Year Meetings as Member</th>\n",
       "      <th>Churn</th>\n",
       "    </tr>\n",
       "    <tr>\n",
       "      <th>Member</th>\n",
       "      <th></th>\n",
       "      <th></th>\n",
       "      <th></th>\n",
       "      <th></th>\n",
       "      <th></th>\n",
       "      <th></th>\n",
       "      <th></th>\n",
       "      <th></th>\n",
       "      <th></th>\n",
       "      <th></th>\n",
       "      <th></th>\n",
       "      <th></th>\n",
       "      <th></th>\n",
       "      <th></th>\n",
       "    </tr>\n",
       "  </thead>\n",
       "  <tbody>\n",
       "    <tr>\n",
       "      <th>0DUskTCnCDPiF2Ra9je5UiVR2b7W</th>\n",
       "      <td>189 days</td>\n",
       "      <td>0</td>\n",
       "      <td>0</td>\n",
       "      <td>1</td>\n",
       "      <td>1</td>\n",
       "      <td>0</td>\n",
       "      <td>0</td>\n",
       "      <td>0</td>\n",
       "      <td>1</td>\n",
       "      <td>0</td>\n",
       "      <td>77 days</td>\n",
       "      <td>0.50</td>\n",
       "      <td>14</td>\n",
       "      <td>1</td>\n",
       "    </tr>\n",
       "    <tr>\n",
       "      <th>2MmBWKdDt6Bv7jksDvSZM4SgZ9wJ</th>\n",
       "      <td>2442 days</td>\n",
       "      <td>1</td>\n",
       "      <td>1</td>\n",
       "      <td>3</td>\n",
       "      <td>1</td>\n",
       "      <td>1</td>\n",
       "      <td>1</td>\n",
       "      <td>3</td>\n",
       "      <td>1</td>\n",
       "      <td>3</td>\n",
       "      <td>5 days</td>\n",
       "      <td>0.87</td>\n",
       "      <td>23</td>\n",
       "      <td>0</td>\n",
       "    </tr>\n",
       "  </tbody>\n",
       "</table>\n",
       "</div>"
      ],
      "text/plain": [
       "                                Joined  TME  GE  TTM  Speaker  Evaluator  TTS  \\\n",
       "Member                                                                          \n",
       "0DUskTCnCDPiF2Ra9je5UiVR2b7W  189 days    0   0    1        1          0    0   \n",
       "2MmBWKdDt6Bv7jksDvSZM4SgZ9wJ 2442 days    1   1    3        1          1    1   \n",
       "\n",
       "                              TK  AhC  Gr Last Presence  Meetings Attended  \\\n",
       "Member                                                                       \n",
       "0DUskTCnCDPiF2Ra9je5UiVR2b7W   0    1   0       77 days               0.50   \n",
       "2MmBWKdDt6Bv7jksDvSZM4SgZ9wJ   3    1   3        5 days               0.87   \n",
       "\n",
       "                              Year Meetings as Member  Churn  \n",
       "Member                                                        \n",
       "0DUskTCnCDPiF2Ra9je5UiVR2b7W                       14      1  \n",
       "2MmBWKdDt6Bv7jksDvSZM4SgZ9wJ                       23      0  "
      ]
     },
     "execution_count": 8,
     "metadata": {},
     "output_type": "execute_result"
    }
   ],
   "source": [
    "tm_member_info[['Joined','Last Presence']] = dt.datetime(2023,7,31) - tm_member_info[['Joined','Last Presence']]\n",
    "tm_member_info.head(2)"
   ]
  },
  {
   "cell_type": "markdown",
   "id": "39c990a3",
   "metadata": {},
   "source": [
    "We can see in the table above that _0DUskTCnCDPiF2Ra9je5UiVR2b7W_ has joined the club $189$ days ago and the last time (s)he was at a club session was $77$ days ago, taking July $31^{st}$ 2023 as the reference date. This means that $189$ days have passed from the day this member has joined until July $31^{st}$ 2023 and $77$ days have passed since the last time this member joined a meeting up until July $31^{st}$ 2023."
   ]
  },
  {
   "cell_type": "code",
   "execution_count": 9,
   "id": "b3de432d",
   "metadata": {},
   "outputs": [
    {
     "data": {
      "text/html": [
       "<div>\n",
       "<style scoped>\n",
       "    .dataframe tbody tr th:only-of-type {\n",
       "        vertical-align: middle;\n",
       "    }\n",
       "\n",
       "    .dataframe tbody tr th {\n",
       "        vertical-align: top;\n",
       "    }\n",
       "\n",
       "    .dataframe thead th {\n",
       "        text-align: right;\n",
       "    }\n",
       "</style>\n",
       "<table border=\"1\" class=\"dataframe\">\n",
       "  <thead>\n",
       "    <tr style=\"text-align: right;\">\n",
       "      <th></th>\n",
       "      <th>Joined</th>\n",
       "      <th>TME</th>\n",
       "      <th>GE</th>\n",
       "      <th>TTM</th>\n",
       "      <th>Speaker</th>\n",
       "      <th>Evaluator</th>\n",
       "      <th>TTS</th>\n",
       "      <th>TK</th>\n",
       "      <th>AhC</th>\n",
       "      <th>Gr</th>\n",
       "      <th>Last Presence</th>\n",
       "      <th>Meetings Attended</th>\n",
       "      <th>Year Meetings as Member</th>\n",
       "      <th>Churn</th>\n",
       "    </tr>\n",
       "    <tr>\n",
       "      <th>Member</th>\n",
       "      <th></th>\n",
       "      <th></th>\n",
       "      <th></th>\n",
       "      <th></th>\n",
       "      <th></th>\n",
       "      <th></th>\n",
       "      <th></th>\n",
       "      <th></th>\n",
       "      <th></th>\n",
       "      <th></th>\n",
       "      <th></th>\n",
       "      <th></th>\n",
       "      <th></th>\n",
       "      <th></th>\n",
       "    </tr>\n",
       "  </thead>\n",
       "  <tbody>\n",
       "    <tr>\n",
       "      <th>0DUskTCnCDPiF2Ra9je5UiVR2b7W</th>\n",
       "      <td>189.0</td>\n",
       "      <td>0</td>\n",
       "      <td>0</td>\n",
       "      <td>1</td>\n",
       "      <td>1</td>\n",
       "      <td>0</td>\n",
       "      <td>0</td>\n",
       "      <td>0</td>\n",
       "      <td>1</td>\n",
       "      <td>0</td>\n",
       "      <td>77.0</td>\n",
       "      <td>0.50</td>\n",
       "      <td>14</td>\n",
       "      <td>1</td>\n",
       "    </tr>\n",
       "    <tr>\n",
       "      <th>2MmBWKdDt6Bv7jksDvSZM4SgZ9wJ</th>\n",
       "      <td>2442.0</td>\n",
       "      <td>1</td>\n",
       "      <td>1</td>\n",
       "      <td>3</td>\n",
       "      <td>1</td>\n",
       "      <td>1</td>\n",
       "      <td>1</td>\n",
       "      <td>3</td>\n",
       "      <td>1</td>\n",
       "      <td>3</td>\n",
       "      <td>5.0</td>\n",
       "      <td>0.87</td>\n",
       "      <td>23</td>\n",
       "      <td>0</td>\n",
       "    </tr>\n",
       "  </tbody>\n",
       "</table>\n",
       "</div>"
      ],
      "text/plain": [
       "                              Joined  TME  GE  TTM  Speaker  Evaluator  TTS  \\\n",
       "Member                                                                        \n",
       "0DUskTCnCDPiF2Ra9je5UiVR2b7W   189.0    0   0    1        1          0    0   \n",
       "2MmBWKdDt6Bv7jksDvSZM4SgZ9wJ  2442.0    1   1    3        1          1    1   \n",
       "\n",
       "                              TK  AhC  Gr  Last Presence  Meetings Attended  \\\n",
       "Member                                                                        \n",
       "0DUskTCnCDPiF2Ra9je5UiVR2b7W   0    1   0           77.0               0.50   \n",
       "2MmBWKdDt6Bv7jksDvSZM4SgZ9wJ   3    1   3            5.0               0.87   \n",
       "\n",
       "                              Year Meetings as Member  Churn  \n",
       "Member                                                        \n",
       "0DUskTCnCDPiF2Ra9je5UiVR2b7W                       14      1  \n",
       "2MmBWKdDt6Bv7jksDvSZM4SgZ9wJ                       23      0  "
      ]
     },
     "execution_count": 9,
     "metadata": {},
     "output_type": "execute_result"
    }
   ],
   "source": [
    "#Converting dates `Last Presence` and `Joined` to the `timedelta` type\n",
    "tm_member_info[['Joined','Last Presence']] = tm_member_info[['Joined','Last Presence']].astype('timedelta64[D]')\n",
    "tm_member_info.head(2)"
   ]
  },
  {
   "cell_type": "markdown",
   "id": "64fa523e",
   "metadata": {},
   "source": [
    "The number of roles taken by a member shall be a good indicator of her/his commitment to learning in the club. However, this number is influenced by `Year Meetings as Member`, the number of meetings in the season that took place after the member joined the club. Some people might have taken on less roles simply because they have entered the club in the middle of the season, so they had the chance to attend less meetings. To take this fact into account, I have divided, for each role, the number of times the role was taken, $r$, `Year Meetings as Member`, stated as $m$:\n",
    "\n",
    "$$ r^{*} = \\frac{r}{m} $$\n",
    "\n",
    "These $r^{*}$ values were the ones used in further analyses."
   ]
  },
  {
   "cell_type": "code",
   "execution_count": 10,
   "id": "d6734dad",
   "metadata": {},
   "outputs": [
    {
     "data": {
      "text/html": [
       "<div>\n",
       "<style scoped>\n",
       "    .dataframe tbody tr th:only-of-type {\n",
       "        vertical-align: middle;\n",
       "    }\n",
       "\n",
       "    .dataframe tbody tr th {\n",
       "        vertical-align: top;\n",
       "    }\n",
       "\n",
       "    .dataframe thead th {\n",
       "        text-align: right;\n",
       "    }\n",
       "</style>\n",
       "<table border=\"1\" class=\"dataframe\">\n",
       "  <thead>\n",
       "    <tr style=\"text-align: right;\">\n",
       "      <th></th>\n",
       "      <th>Joined</th>\n",
       "      <th>TME</th>\n",
       "      <th>GE</th>\n",
       "      <th>TTM</th>\n",
       "      <th>Speaker</th>\n",
       "      <th>Evaluator</th>\n",
       "      <th>TTS</th>\n",
       "      <th>TK</th>\n",
       "      <th>AhC</th>\n",
       "      <th>Gr</th>\n",
       "      <th>Last Presence</th>\n",
       "      <th>Meetings Attended</th>\n",
       "      <th>Year Meetings as Member</th>\n",
       "      <th>Churn</th>\n",
       "    </tr>\n",
       "    <tr>\n",
       "      <th>Member</th>\n",
       "      <th></th>\n",
       "      <th></th>\n",
       "      <th></th>\n",
       "      <th></th>\n",
       "      <th></th>\n",
       "      <th></th>\n",
       "      <th></th>\n",
       "      <th></th>\n",
       "      <th></th>\n",
       "      <th></th>\n",
       "      <th></th>\n",
       "      <th></th>\n",
       "      <th></th>\n",
       "      <th></th>\n",
       "    </tr>\n",
       "  </thead>\n",
       "  <tbody>\n",
       "    <tr>\n",
       "      <th>0DUskTCnCDPiF2Ra9je5UiVR2b7W</th>\n",
       "      <td>189.0</td>\n",
       "      <td>0.000000</td>\n",
       "      <td>0.000000</td>\n",
       "      <td>0.071429</td>\n",
       "      <td>0.071429</td>\n",
       "      <td>0.000000</td>\n",
       "      <td>0.000000</td>\n",
       "      <td>0.000000</td>\n",
       "      <td>0.071429</td>\n",
       "      <td>0.000000</td>\n",
       "      <td>77.0</td>\n",
       "      <td>0.50</td>\n",
       "      <td>14</td>\n",
       "      <td>1</td>\n",
       "    </tr>\n",
       "    <tr>\n",
       "      <th>2MmBWKdDt6Bv7jksDvSZM4SgZ9wJ</th>\n",
       "      <td>2442.0</td>\n",
       "      <td>0.043478</td>\n",
       "      <td>0.043478</td>\n",
       "      <td>0.130435</td>\n",
       "      <td>0.043478</td>\n",
       "      <td>0.043478</td>\n",
       "      <td>0.043478</td>\n",
       "      <td>0.130435</td>\n",
       "      <td>0.043478</td>\n",
       "      <td>0.130435</td>\n",
       "      <td>5.0</td>\n",
       "      <td>0.87</td>\n",
       "      <td>23</td>\n",
       "      <td>0</td>\n",
       "    </tr>\n",
       "    <tr>\n",
       "      <th>2Z1PQ9200RyXzg9WbTa10S4igYeK</th>\n",
       "      <td>486.0</td>\n",
       "      <td>0.000000</td>\n",
       "      <td>0.000000</td>\n",
       "      <td>0.043478</td>\n",
       "      <td>0.130435</td>\n",
       "      <td>0.000000</td>\n",
       "      <td>0.130435</td>\n",
       "      <td>0.043478</td>\n",
       "      <td>0.086957</td>\n",
       "      <td>0.000000</td>\n",
       "      <td>19.0</td>\n",
       "      <td>0.74</td>\n",
       "      <td>23</td>\n",
       "      <td>0</td>\n",
       "    </tr>\n",
       "    <tr>\n",
       "      <th>6TW4zYLA2cnSi8gDvbknHASu3atN</th>\n",
       "      <td>496.0</td>\n",
       "      <td>0.043478</td>\n",
       "      <td>0.000000</td>\n",
       "      <td>0.043478</td>\n",
       "      <td>0.086957</td>\n",
       "      <td>0.000000</td>\n",
       "      <td>0.173913</td>\n",
       "      <td>0.043478</td>\n",
       "      <td>0.130435</td>\n",
       "      <td>0.086957</td>\n",
       "      <td>5.0</td>\n",
       "      <td>0.65</td>\n",
       "      <td>23</td>\n",
       "      <td>0</td>\n",
       "    </tr>\n",
       "    <tr>\n",
       "      <th>7a01j1pQcAlB5DVe6pUnwgLhhlY8</th>\n",
       "      <td>627.0</td>\n",
       "      <td>0.000000</td>\n",
       "      <td>0.000000</td>\n",
       "      <td>0.000000</td>\n",
       "      <td>0.000000</td>\n",
       "      <td>0.000000</td>\n",
       "      <td>0.000000</td>\n",
       "      <td>0.000000</td>\n",
       "      <td>0.000000</td>\n",
       "      <td>0.000000</td>\n",
       "      <td>397.0</td>\n",
       "      <td>0.00</td>\n",
       "      <td>23</td>\n",
       "      <td>1</td>\n",
       "    </tr>\n",
       "  </tbody>\n",
       "</table>\n",
       "</div>"
      ],
      "text/plain": [
       "                              Joined       TME        GE       TTM   Speaker  \\\n",
       "Member                                                                         \n",
       "0DUskTCnCDPiF2Ra9je5UiVR2b7W   189.0  0.000000  0.000000  0.071429  0.071429   \n",
       "2MmBWKdDt6Bv7jksDvSZM4SgZ9wJ  2442.0  0.043478  0.043478  0.130435  0.043478   \n",
       "2Z1PQ9200RyXzg9WbTa10S4igYeK   486.0  0.000000  0.000000  0.043478  0.130435   \n",
       "6TW4zYLA2cnSi8gDvbknHASu3atN   496.0  0.043478  0.000000  0.043478  0.086957   \n",
       "7a01j1pQcAlB5DVe6pUnwgLhhlY8   627.0  0.000000  0.000000  0.000000  0.000000   \n",
       "\n",
       "                              Evaluator       TTS        TK       AhC  \\\n",
       "Member                                                                  \n",
       "0DUskTCnCDPiF2Ra9je5UiVR2b7W   0.000000  0.000000  0.000000  0.071429   \n",
       "2MmBWKdDt6Bv7jksDvSZM4SgZ9wJ   0.043478  0.043478  0.130435  0.043478   \n",
       "2Z1PQ9200RyXzg9WbTa10S4igYeK   0.000000  0.130435  0.043478  0.086957   \n",
       "6TW4zYLA2cnSi8gDvbknHASu3atN   0.000000  0.173913  0.043478  0.130435   \n",
       "7a01j1pQcAlB5DVe6pUnwgLhhlY8   0.000000  0.000000  0.000000  0.000000   \n",
       "\n",
       "                                    Gr  Last Presence  Meetings Attended  \\\n",
       "Member                                                                     \n",
       "0DUskTCnCDPiF2Ra9je5UiVR2b7W  0.000000           77.0               0.50   \n",
       "2MmBWKdDt6Bv7jksDvSZM4SgZ9wJ  0.130435            5.0               0.87   \n",
       "2Z1PQ9200RyXzg9WbTa10S4igYeK  0.000000           19.0               0.74   \n",
       "6TW4zYLA2cnSi8gDvbknHASu3atN  0.086957            5.0               0.65   \n",
       "7a01j1pQcAlB5DVe6pUnwgLhhlY8  0.000000          397.0               0.00   \n",
       "\n",
       "                              Year Meetings as Member  Churn  \n",
       "Member                                                        \n",
       "0DUskTCnCDPiF2Ra9je5UiVR2b7W                       14      1  \n",
       "2MmBWKdDt6Bv7jksDvSZM4SgZ9wJ                       23      0  \n",
       "2Z1PQ9200RyXzg9WbTa10S4igYeK                       23      0  \n",
       "6TW4zYLA2cnSi8gDvbknHASu3atN                       23      0  \n",
       "7a01j1pQcAlB5DVe6pUnwgLhhlY8                       23      1  "
      ]
     },
     "execution_count": 10,
     "metadata": {},
     "output_type": "execute_result"
    }
   ],
   "source": [
    "tm_member_info[['TME','GE','TTM','Speaker','Evaluator','TTS','TK','AhC','Gr']] = tm_member_info[['TME','GE','TTM','Speaker','Evaluator','TTS','TK','AhC','Gr']].apply(lambda x: x/tm_member_info['Year Meetings as Member'])\n",
    "tm_member_info.head()"
   ]
  },
  {
   "cell_type": "markdown",
   "id": "4644f337",
   "metadata": {},
   "source": [
    "Let's separate the response variable `Churn` in `y` from all other, predictor, features in `X` and generate training and test sets."
   ]
  },
  {
   "cell_type": "code",
   "execution_count": 11,
   "id": "87288b37",
   "metadata": {
    "scrolled": true
   },
   "outputs": [
    {
     "data": {
      "text/plain": [
       "'19 members in the training set; 9 members in the test set'"
      ]
     },
     "execution_count": 11,
     "metadata": {},
     "output_type": "execute_result"
    }
   ],
   "source": [
    "y = tm_member_info['Churn'].values\n",
    "X = tm_member_info[['Joined','Last Presence','TME','GE','TTM','Speaker','Evaluator','TTS','TK','AhC','Gr','Meetings Attended']]\n",
    "\n",
    "X_train, X_test, y_train, y_test = train_test_split(X, y, test_size=0.3, random_state=56, stratify=y)\n",
    "\n",
    "f'{len(X_train)} members in the training set; {len(X_test)} members in the test set'"
   ]
  },
  {
   "cell_type": "markdown",
   "id": "351be2de",
   "metadata": {},
   "source": [
    "<a id='correlation'></a>\n",
    "## Correlation between features"
   ]
  },
  {
   "cell_type": "code",
   "execution_count": 12,
   "id": "4ec9c36e",
   "metadata": {},
   "outputs": [
    {
     "data": {
      "text/plain": [
       "<Axes: >"
      ]
     },
     "execution_count": 12,
     "metadata": {},
     "output_type": "execute_result"
    },
    {
     "data": {
      "image/png": "[encoded data removed]",
      "text/plain": [
       "<Figure size 640x480 with 2 Axes>"
      ]
     },
     "metadata": {},
     "output_type": "display_data"
    }
   ],
   "source": [
    "X_feature_corr = X.corr().round(decimals=2)\n",
    "\n",
    "# Create colour map\n",
    "# We create a new colour map with the colours\n",
    "cmap = sns.diverging_palette(220, 20, as_cmap=True)\n",
    "# We also create a mask matrix in order to plot a triangular matrix only\n",
    "mask = np.triu(np.ones_like(X_feature_corr, dtype=bool))\n",
    "\n",
    "plt.rcParams['font.size'] = 9\n",
    "sns.heatmap(X_feature_corr, annot=True,center=0,vmin=-1,vmax=1,cmap=cmap, mask = mask)"
   ]
  },
  {
   "cell_type": "markdown",
   "id": "f237e298",
   "metadata": {},
   "source": [
    "`Last Presence` is strongly correlated with `Meetings Attended` and both of these features are moderately correlated with all meeting roles. On one hand, it seems intuitive that members who have been coming to the most recent meetings have been coming to a higher fraction of meetings. On the other hand, it also seems intuitive that members coming to the most recent meetings and coming to a higher fraction of meetings are more likely to be the members that perform more meeting roles in general.\n",
    "\n",
    "For these reasons, I have decided to model churn in two separate approaches, using separate feature sets:\n",
    " 1. Using only `Last Presence`, `Meetings Attended` and `Joined`;\n",
    " 2. Using only meeting roles.\n",
    "\n",
    "`Last Presence` and `Meetings Attended` are very strongly correlated, with a correlation of $-0.84$, so information contained in both features is somewhat redundant. Therefore, we should also remove one of these features at the time from our analysis in order to discern the impact of each of these highly correlated features.\n",
    "\n",
    "Therefore, for the [first approach](#churn1) we will consider three different matrices:\n",
    " - `X1`, which will include `Last Presence`, `Meetings Attended` and `Joined`;"
   ]
  },
  {
   "cell_type": "code",
   "execution_count": 13,
   "id": "d65b4763",
   "metadata": {
    "scrolled": true
   },
   "outputs": [
    {
     "data": {
      "text/html": [
       "<div>\n",
       "<style scoped>\n",
       "    .dataframe tbody tr th:only-of-type {\n",
       "        vertical-align: middle;\n",
       "    }\n",
       "\n",
       "    .dataframe tbody tr th {\n",
       "        vertical-align: top;\n",
       "    }\n",
       "\n",
       "    .dataframe thead th {\n",
       "        text-align: right;\n",
       "    }\n",
       "</style>\n",
       "<table border=\"1\" class=\"dataframe\">\n",
       "  <thead>\n",
       "    <tr style=\"text-align: right;\">\n",
       "      <th></th>\n",
       "      <th>Joined</th>\n",
       "      <th>Last Presence</th>\n",
       "      <th>Meetings Attended</th>\n",
       "    </tr>\n",
       "    <tr>\n",
       "      <th>Member</th>\n",
       "      <th></th>\n",
       "      <th></th>\n",
       "      <th></th>\n",
       "    </tr>\n",
       "  </thead>\n",
       "  <tbody>\n",
       "    <tr>\n",
       "      <th>0DUskTCnCDPiF2Ra9je5UiVR2b7W</th>\n",
       "      <td>189.0</td>\n",
       "      <td>77.0</td>\n",
       "      <td>0.50</td>\n",
       "    </tr>\n",
       "    <tr>\n",
       "      <th>2MmBWKdDt6Bv7jksDvSZM4SgZ9wJ</th>\n",
       "      <td>2442.0</td>\n",
       "      <td>5.0</td>\n",
       "      <td>0.87</td>\n",
       "    </tr>\n",
       "  </tbody>\n",
       "</table>\n",
       "</div>"
      ],
      "text/plain": [
       "                              Joined  Last Presence  Meetings Attended\n",
       "Member                                                                \n",
       "0DUskTCnCDPiF2Ra9je5UiVR2b7W   189.0           77.0               0.50\n",
       "2MmBWKdDt6Bv7jksDvSZM4SgZ9wJ  2442.0            5.0               0.87"
      ]
     },
     "execution_count": 13,
     "metadata": {},
     "output_type": "execute_result"
    }
   ],
   "source": [
    "X1 = X[['Joined','Last Presence','Meetings Attended']]\n",
    "X1.head(2)"
   ]
  },
  {
   "cell_type": "markdown",
   "id": "5d5c9bbe",
   "metadata": {},
   "source": [
    " - `X1m`, which will include only `Meetings Attended` and `Joined` (after removing `Last Presence` from `X1`);"
   ]
  },
  {
   "cell_type": "code",
   "execution_count": 14,
   "id": "9fc93a75",
   "metadata": {},
   "outputs": [
    {
     "data": {
      "text/html": [
       "<div>\n",
       "<style scoped>\n",
       "    .dataframe tbody tr th:only-of-type {\n",
       "        vertical-align: middle;\n",
       "    }\n",
       "\n",
       "    .dataframe tbody tr th {\n",
       "        vertical-align: top;\n",
       "    }\n",
       "\n",
       "    .dataframe thead th {\n",
       "        text-align: right;\n",
       "    }\n",
       "</style>\n",
       "<table border=\"1\" class=\"dataframe\">\n",
       "  <thead>\n",
       "    <tr style=\"text-align: right;\">\n",
       "      <th></th>\n",
       "      <th>Joined</th>\n",
       "      <th>Meetings Attended</th>\n",
       "    </tr>\n",
       "    <tr>\n",
       "      <th>Member</th>\n",
       "      <th></th>\n",
       "      <th></th>\n",
       "    </tr>\n",
       "  </thead>\n",
       "  <tbody>\n",
       "    <tr>\n",
       "      <th>0DUskTCnCDPiF2Ra9je5UiVR2b7W</th>\n",
       "      <td>189.0</td>\n",
       "      <td>0.50</td>\n",
       "    </tr>\n",
       "    <tr>\n",
       "      <th>2MmBWKdDt6Bv7jksDvSZM4SgZ9wJ</th>\n",
       "      <td>2442.0</td>\n",
       "      <td>0.87</td>\n",
       "    </tr>\n",
       "  </tbody>\n",
       "</table>\n",
       "</div>"
      ],
      "text/plain": [
       "                              Joined  Meetings Attended\n",
       "Member                                                 \n",
       "0DUskTCnCDPiF2Ra9je5UiVR2b7W   189.0               0.50\n",
       "2MmBWKdDt6Bv7jksDvSZM4SgZ9wJ  2442.0               0.87"
      ]
     },
     "execution_count": 14,
     "metadata": {},
     "output_type": "execute_result"
    }
   ],
   "source": [
    "X1m = X[['Joined','Meetings Attended']]\n",
    "X1m.head(2)"
   ]
  },
  {
   "cell_type": "markdown",
   "id": "9205b37c",
   "metadata": {},
   "source": [
    " - `X1p`, which will include only `Last Presence` and `Joined`  (after removing `Meetings Attended` from `X1`)."
   ]
  },
  {
   "cell_type": "code",
   "execution_count": 15,
   "id": "611959ec",
   "metadata": {},
   "outputs": [
    {
     "data": {
      "text/html": [
       "<div>\n",
       "<style scoped>\n",
       "    .dataframe tbody tr th:only-of-type {\n",
       "        vertical-align: middle;\n",
       "    }\n",
       "\n",
       "    .dataframe tbody tr th {\n",
       "        vertical-align: top;\n",
       "    }\n",
       "\n",
       "    .dataframe thead th {\n",
       "        text-align: right;\n",
       "    }\n",
       "</style>\n",
       "<table border=\"1\" class=\"dataframe\">\n",
       "  <thead>\n",
       "    <tr style=\"text-align: right;\">\n",
       "      <th></th>\n",
       "      <th>Joined</th>\n",
       "      <th>Last Presence</th>\n",
       "    </tr>\n",
       "    <tr>\n",
       "      <th>Member</th>\n",
       "      <th></th>\n",
       "      <th></th>\n",
       "    </tr>\n",
       "  </thead>\n",
       "  <tbody>\n",
       "    <tr>\n",
       "      <th>0DUskTCnCDPiF2Ra9je5UiVR2b7W</th>\n",
       "      <td>189.0</td>\n",
       "      <td>77.0</td>\n",
       "    </tr>\n",
       "    <tr>\n",
       "      <th>2MmBWKdDt6Bv7jksDvSZM4SgZ9wJ</th>\n",
       "      <td>2442.0</td>\n",
       "      <td>5.0</td>\n",
       "    </tr>\n",
       "  </tbody>\n",
       "</table>\n",
       "</div>"
      ],
      "text/plain": [
       "                              Joined  Last Presence\n",
       "Member                                             \n",
       "0DUskTCnCDPiF2Ra9je5UiVR2b7W   189.0           77.0\n",
       "2MmBWKdDt6Bv7jksDvSZM4SgZ9wJ  2442.0            5.0"
      ]
     },
     "execution_count": 15,
     "metadata": {},
     "output_type": "execute_result"
    }
   ],
   "source": [
    "X1p = X[['Joined','Last Presence']]\n",
    "X1p.head(2)"
   ]
  },
  {
   "cell_type": "markdown",
   "id": "8e08c26d",
   "metadata": {},
   "source": [
    "For the [second approach](#churn2), we define the `X2` matrix, which will only include the meeting roles."
   ]
  },
  {
   "cell_type": "code",
   "execution_count": 16,
   "id": "9e10e164",
   "metadata": {
    "scrolled": true
   },
   "outputs": [
    {
     "data": {
      "text/html": [
       "<div>\n",
       "<style scoped>\n",
       "    .dataframe tbody tr th:only-of-type {\n",
       "        vertical-align: middle;\n",
       "    }\n",
       "\n",
       "    .dataframe tbody tr th {\n",
       "        vertical-align: top;\n",
       "    }\n",
       "\n",
       "    .dataframe thead th {\n",
       "        text-align: right;\n",
       "    }\n",
       "</style>\n",
       "<table border=\"1\" class=\"dataframe\">\n",
       "  <thead>\n",
       "    <tr style=\"text-align: right;\">\n",
       "      <th></th>\n",
       "      <th>TME</th>\n",
       "      <th>GE</th>\n",
       "      <th>TTM</th>\n",
       "      <th>Speaker</th>\n",
       "      <th>Evaluator</th>\n",
       "      <th>TTS</th>\n",
       "      <th>TK</th>\n",
       "      <th>AhC</th>\n",
       "      <th>Gr</th>\n",
       "    </tr>\n",
       "    <tr>\n",
       "      <th>Member</th>\n",
       "      <th></th>\n",
       "      <th></th>\n",
       "      <th></th>\n",
       "      <th></th>\n",
       "      <th></th>\n",
       "      <th></th>\n",
       "      <th></th>\n",
       "      <th></th>\n",
       "      <th></th>\n",
       "    </tr>\n",
       "  </thead>\n",
       "  <tbody>\n",
       "    <tr>\n",
       "      <th>0DUskTCnCDPiF2Ra9je5UiVR2b7W</th>\n",
       "      <td>0.000000</td>\n",
       "      <td>0.000000</td>\n",
       "      <td>0.071429</td>\n",
       "      <td>0.071429</td>\n",
       "      <td>0.000000</td>\n",
       "      <td>0.000000</td>\n",
       "      <td>0.000000</td>\n",
       "      <td>0.071429</td>\n",
       "      <td>0.000000</td>\n",
       "    </tr>\n",
       "    <tr>\n",
       "      <th>2MmBWKdDt6Bv7jksDvSZM4SgZ9wJ</th>\n",
       "      <td>0.043478</td>\n",
       "      <td>0.043478</td>\n",
       "      <td>0.130435</td>\n",
       "      <td>0.043478</td>\n",
       "      <td>0.043478</td>\n",
       "      <td>0.043478</td>\n",
       "      <td>0.130435</td>\n",
       "      <td>0.043478</td>\n",
       "      <td>0.130435</td>\n",
       "    </tr>\n",
       "  </tbody>\n",
       "</table>\n",
       "</div>"
      ],
      "text/plain": [
       "                                   TME        GE       TTM   Speaker  \\\n",
       "Member                                                                 \n",
       "0DUskTCnCDPiF2Ra9je5UiVR2b7W  0.000000  0.000000  0.071429  0.071429   \n",
       "2MmBWKdDt6Bv7jksDvSZM4SgZ9wJ  0.043478  0.043478  0.130435  0.043478   \n",
       "\n",
       "                              Evaluator       TTS        TK       AhC  \\\n",
       "Member                                                                  \n",
       "0DUskTCnCDPiF2Ra9je5UiVR2b7W   0.000000  0.000000  0.000000  0.071429   \n",
       "2MmBWKdDt6Bv7jksDvSZM4SgZ9wJ   0.043478  0.043478  0.130435  0.043478   \n",
       "\n",
       "                                    Gr  \n",
       "Member                                  \n",
       "0DUskTCnCDPiF2Ra9je5UiVR2b7W  0.000000  \n",
       "2MmBWKdDt6Bv7jksDvSZM4SgZ9wJ  0.130435  "
      ]
     },
     "execution_count": 16,
     "metadata": {},
     "output_type": "execute_result"
    }
   ],
   "source": [
    "X2 = X.drop(columns=['Joined','Last Presence','Meetings Attended'])\n",
    "X2.head(2)"
   ]
  },
  {
   "cell_type": "markdown",
   "id": "8a873e8d",
   "metadata": {},
   "source": [
    "<a id='churn1'></a>\n",
    "## Modelling churn I:\n",
    "## Using `Meetings Attended`, `Last Presence` and `Joined`"
   ]
  },
  {
   "cell_type": "markdown",
   "id": "5af2d0df",
   "metadata": {},
   "source": [
    "Let's start by splitting our $28$ members into training sets, which will have $70\\%$ of the members, and test sets, which will have the remaining $30\\%$."
   ]
  },
  {
   "cell_type": "code",
   "execution_count": 17,
   "id": "d7374e3e",
   "metadata": {
    "scrolled": true
   },
   "outputs": [
    {
     "name": "stdout",
     "output_type": "stream",
     "text": [
      "19 members in the training set of X1; 9 members in the test set of X1\n",
      "19 members in the training set of X1m; 9 members in the test set of X1m\n",
      "19 members in the training set of X1p; 9 members in the test set of X1p\n"
     ]
    }
   ],
   "source": [
    "X1_train, X1_test, y1_train, y1_test = train_test_split(X1, y, test_size=0.3, random_state=32, stratify=y)\n",
    "X1m_train, X1m_test, y1m_train, y1m_test = train_test_split(X1m, y, test_size=0.3, random_state=32, stratify=y)\n",
    "X1p_train, X1p_test, y1p_train, y1p_test = train_test_split(X1p, y, test_size=0.3, random_state=32, stratify=y)\n",
    "\n",
    "print(len(X1_train),'members in the training set of X1;',len(X1_test),'members in the test set of X1')\n",
    "print(len(X1m_train),'members in the training set of X1m;',len(X1m_test),'members in the test set of X1m')\n",
    "print(len(X1p_train),'members in the training set of X1p;',len(X1p_test),'members in the test set of X1p')"
   ]
  },
  {
   "cell_type": "markdown",
   "id": "7ef09379",
   "metadata": {},
   "source": [
    "Then we create dataframes to store the accuracy of the different classification models used here initially, gradient boosting and random forest:\n",
    "\n",
    "- `churnI_jmp_accuracy` to store accuracies of the models including `Last Presence`, `Meetings Attended` and `Joined`;\n",
    "- `churnI_jm_accuracy` to store accuracies of the models including only `Meetings Attended` and `Joined`;\n",
    "- `churnI_jp_accuracy` to store accuracies of the models including only `Last Presence`, and `Joined`."
   ]
  },
  {
   "cell_type": "code",
   "execution_count": 18,
   "id": "0ed19a05",
   "metadata": {},
   "outputs": [],
   "source": [
    "churnI_jmp_accuracy = pd.DataFrame(columns=['Gradient boosting','Random forest'],index=['Training','Testing'])\n",
    "churnI_jm_accuracy = churnI_jmp_accuracy.copy()\n",
    "churnI_jp_accuracy = churnI_jmp_accuracy.copy()"
   ]
  },
  {
   "cell_type": "markdown",
   "id": "dd756066",
   "metadata": {},
   "source": [
    "Now up to the modeling itself."
   ]
  },
  {
   "cell_type": "markdown",
   "id": "064cc0ef",
   "metadata": {},
   "source": [
    "### Gradient boosting"
   ]
  },
  {
   "cell_type": "code",
   "execution_count": 19,
   "id": "1d50e8e0",
   "metadata": {},
   "outputs": [
    {
     "name": "stdout",
     "output_type": "stream",
     "text": [
      "Tuned hyperparameters : {'boosting_type': 'gbdt', 'colsample_bytree': 0.15, 'deterministic': False, 'force_col_wise': True, 'learning_rate': 0.002, 'max_depth': 1, 'min_child_samples': 7, 'min_data_in_bin': 2, 'min_split_gain': 0.05, 'n_estimators': 100, 'objective': 'binary', 'verbose': -1}\n",
      "Accuracy on training data: 1.0\n",
      "Accuracy on test data: 0.8888888888888888\n"
     ]
    }
   ],
   "source": [
    "lgbm_parameters = {'objective': ['binary'],\n",
    "                  'boosting_type': ['gbdt'],\n",
    "                  'n_estimators': [100],\n",
    "                  'learning_rate': [0.002],\n",
    "                  'deterministic': [False],\n",
    "                  'force_col_wise': [True],\n",
    "                  'max_depth': [1, 2],\n",
    "                  'colsample_bytree': [0.15, 0.2, 0.25],\n",
    "                  'min_split_gain': [0.05],\n",
    "                  'min_child_samples': [7],\n",
    "                  'min_data_in_bin': [2],\n",
    "                   'verbose': [-1],\n",
    "                  }\n",
    "\n",
    "lgb_jmp = GridSearchCV(lgb.LGBMClassifier(random_state=52), lgbm_parameters, cv=4)\n",
    "lgb_jmp.fit(X1_train, y1_train)\n",
    "\n",
    "churnI_jmp_accuracy['Gradient boosting']['Training'] = lgb_jmp.best_score_\n",
    "churnI_jmp_accuracy['Gradient boosting']['Testing'] = lgb_jmp.score(X1_test,y1_test)\n",
    "\n",
    "print(\"Tuned hyperparameters :\",lgb_jmp.best_params_)\n",
    "print(\"Accuracy on training data:\",churnI_jmp_accuracy['Gradient boosting']['Training'])\n",
    "print(\"Accuracy on test data:\",churnI_jmp_accuracy['Gradient boosting']['Testing'])"
   ]
  },
  {
   "cell_type": "markdown",
   "id": "b4f737a2",
   "metadata": {},
   "source": [
    "An $88,9\\%$ accuracy in our test data means that the model was only unable to predict correcly the fate of $1$ of the members in the test data, as we can see in the confusion matrix below."
   ]
  },
  {
   "cell_type": "code",
   "execution_count": 20,
   "id": "8ea1c436",
   "metadata": {
    "scrolled": true
   },
   "outputs": [
    {
     "data": {
      "image/png": "[encoded data removed]",
      "text/plain": [
       "<Figure size 400x300 with 2 Axes>"
      ]
     },
     "metadata": {},
     "output_type": "display_data"
    }
   ],
   "source": [
    "plot_confusion_matrix(y1_test,lgb_jmp.predict(X1_test))"
   ]
  },
  {
   "cell_type": "code",
   "execution_count": 21,
   "id": "efa19936",
   "metadata": {},
   "outputs": [],
   "source": [
    "lgb_jmp_fi = permutation_importance(lgb_jmp, X1_train, y1_train,n_repeats=500,scoring='accuracy',random_state=91)\n",
    "lgb_jmp_fi_p = barplot_colours(lgb_jmp_fi.importances)"
   ]
  },
  {
   "cell_type": "markdown",
   "id": "6d6a2bdd",
   "metadata": {},
   "source": [
    "### Random forest"
   ]
  },
  {
   "cell_type": "code",
   "execution_count": 22,
   "id": "b68c3989",
   "metadata": {},
   "outputs": [],
   "source": [
    "#Random state 32\n",
    "rf_parameters = {'criterion': ['entropy'],\n",
    "                     'n_estimators': [50], 'min_samples_split': [5, 6, 7],\n",
    "                     'min_samples_leaf': [3], 'max_depth': [1, 2],\n",
    "                     'min_impurity_decrease': [0.3], 'max_features': ['sqrt', 'log2']}"
   ]
  },
  {
   "cell_type": "code",
   "execution_count": 23,
   "id": "353242e1",
   "metadata": {},
   "outputs": [
    {
     "name": "stdout",
     "output_type": "stream",
     "text": [
      "Tuned hyperparameters : {'criterion': 'entropy', 'max_depth': 1, 'max_features': 'sqrt', 'min_impurity_decrease': 0.3, 'min_samples_leaf': 3, 'min_samples_split': 5, 'n_estimators': 50}\n",
      "Accuracy in training data: 1.0\n",
      "Accuracy in test data:  0.8888888888888888\n"
     ]
    }
   ],
   "source": [
    "rf_jmp = GridSearchCV(\n",
    "    RandomForestClassifier(random_state=32),\n",
    "    rf_parameters, cv=4,n_jobs=4)\n",
    "\n",
    "rf_jmp.fit(X1_train,y1_train)\n",
    "\n",
    "churnI_jmp_accuracy['Random forest']['Training'] = rf_jmp.best_score_\n",
    "churnI_jmp_accuracy['Random forest']['Testing'] = rf_jmp.score(X1_test,y1_test)\n",
    "\n",
    "print(\"Tuned hyperparameters :\",rf_jmp.best_params_)\n",
    "print(\"Accuracy in training data:\",churnI_jmp_accuracy['Random forest']['Training'])\n",
    "print(\"Accuracy in test data: \", churnI_jmp_accuracy['Random forest']['Testing'])"
   ]
  },
  {
   "cell_type": "code",
   "execution_count": 24,
   "id": "b3656598",
   "metadata": {},
   "outputs": [],
   "source": [
    "rf_jmp_fi = permutation_importance(rf_jmp, X1_train, y1_train,n_repeats=500,scoring='accuracy',random_state=91)\n",
    "rf_jmp_fi_p = barplot_colours(rf_jmp_fi.importances)"
   ]
  },
  {
   "cell_type": "code",
   "execution_count": 25,
   "id": "735c8262",
   "metadata": {},
   "outputs": [
    {
     "data": {
      "text/html": [
       "<div>\n",
       "<style scoped>\n",
       "    .dataframe tbody tr th:only-of-type {\n",
       "        vertical-align: middle;\n",
       "    }\n",
       "\n",
       "    .dataframe tbody tr th {\n",
       "        vertical-align: top;\n",
       "    }\n",
       "\n",
       "    .dataframe thead th {\n",
       "        text-align: right;\n",
       "    }\n",
       "</style>\n",
       "<table border=\"1\" class=\"dataframe\">\n",
       "  <thead>\n",
       "    <tr style=\"text-align: right;\">\n",
       "      <th></th>\n",
       "      <th>Gradient boosting</th>\n",
       "      <th>Random forest</th>\n",
       "    </tr>\n",
       "  </thead>\n",
       "  <tbody>\n",
       "    <tr>\n",
       "      <th>Training</th>\n",
       "      <td>1.0</td>\n",
       "      <td>1.0</td>\n",
       "    </tr>\n",
       "    <tr>\n",
       "      <th>Testing</th>\n",
       "      <td>0.888889</td>\n",
       "      <td>0.888889</td>\n",
       "    </tr>\n",
       "  </tbody>\n",
       "</table>\n",
       "</div>"
      ],
      "text/plain": [
       "         Gradient boosting Random forest\n",
       "Training               1.0           1.0\n",
       "Testing           0.888889      0.888889"
      ]
     },
     "execution_count": 25,
     "metadata": {},
     "output_type": "execute_result"
    }
   ],
   "source": [
    "churnI_jmp_accuracy"
   ]
  },
  {
   "cell_type": "markdown",
   "id": "1a81bcbe",
   "metadata": {},
   "source": [
    "Both models have the same, very high accuracy, both in training and testing datasets."
   ]
  },
  {
   "cell_type": "code",
   "execution_count": 26,
   "id": "fd7b3af3",
   "metadata": {},
   "outputs": [
    {
     "data": {
      "image/png": "[encoded data removed]",
      "text/plain": [
       "<Figure size 400x300 with 2 Axes>"
      ]
     },
     "metadata": {},
     "output_type": "display_data"
    }
   ],
   "source": [
    "plot_confusion_matrix(y1_test,rf_jmp.predict(X1_test))"
   ]
  },
  {
   "cell_type": "code",
   "execution_count": 27,
   "id": "b6f779c7",
   "metadata": {
    "scrolled": true
   },
   "outputs": [
    {
     "data": {
      "text/plain": [
       "Text(0.5, 1.0, 'Random Forest')"
      ]
     },
     "execution_count": 27,
     "metadata": {},
     "output_type": "execute_result"
    },
    {
     "data": {
      "image/png": "[encoded data removed]",
      "text/plain": [
       "<Figure size 900x200 with 2 Axes>"
      ]
     },
     "metadata": {},
     "output_type": "display_data"
    }
   ],
   "source": [
    "fig, ax = plt.subplots(1,2,figsize=(9,2),sharey=True)\n",
    "\n",
    "ax[0].barh(X1.columns,lgb_jmp_fi.importances_mean,xerr=lgb_jmp_fi.importances_std, capsize=4,color=lgb_jmp_fi_p['colour'])\n",
    "ax[0].set_xlabel('Feature importance')\n",
    "ax[0].set_title('Gradient Boosting')\n",
    "\n",
    "ax[1].barh(X1.columns,rf_jmp_fi.importances_mean,xerr=rf_jmp_fi.importances_std, capsize=4,color=rf_jmp_fi_p['colour'])\n",
    "ax[1].set_xlabel('Feature importance')\n",
    "ax[1].set_ylabel(None)\n",
    "ax[1].set_title('Random Forest')"
   ]
  },
  {
   "cell_type": "markdown",
   "id": "623b8db6",
   "metadata": {},
   "source": [
    "`Last Presence` is the most important feature among these three separating members staying from members leaving. <font color='red'> The red bar indicates that this importance is statistically significant. </a>"
   ]
  },
  {
   "cell_type": "markdown",
   "id": "ffda5cd8",
   "metadata": {},
   "source": [
    "## Using `Meetings Attended` and `Joined`\n",
    "Given that `Meetings Attended` and `Last Presence` are highly correlated, as we have seen [above](#correlation), I am repeating the analysis by removing `Last Presence` to check how multicollinearity might influence the result we have just seen.\n",
    "\n",
    "### Gradient boosting"
   ]
  },
  {
   "cell_type": "code",
   "execution_count": 28,
   "id": "0588e340",
   "metadata": {
    "scrolled": true
   },
   "outputs": [
    {
     "name": "stdout",
     "output_type": "stream",
     "text": [
      "Tuned hyperparameters : {'boosting_type': 'gbdt', 'colsample_bytree': 0.2, 'deterministic': False, 'force_col_wise': True, 'learning_rate': 0.0015, 'max_depth': 1, 'min_child_samples': 6, 'min_data_in_bin': 5, 'min_split_gain': 0.5, 'n_estimators': 100, 'objective': 'binary', 'verbose': -1}\n",
      "Accuracy on training data: 0.95\n",
      "Accuracy on test data: 0.8888888888888888\n"
     ]
    }
   ],
   "source": [
    "lgbm_parameters = {'objective': ['binary'],\n",
    "                  'boosting_type': ['gbdt'],\n",
    "                  'n_estimators': [100],\n",
    "                  'learning_rate': [0.0015],\n",
    "                  'deterministic': [False],\n",
    "                  'force_col_wise': [True],\n",
    "                  'max_depth': [1, 2],\n",
    "                  'colsample_bytree': [0.2, 0.25, 0.3],\n",
    "                  'min_split_gain': [0.5],\n",
    "                  'min_child_samples': [6],\n",
    "                  'min_data_in_bin': [5],\n",
    "                   'verbose': [-1]\n",
    "                  }\n",
    "\n",
    "lgb_jm = GridSearchCV(lgb.LGBMClassifier(random_state=22), lgbm_parameters, cv=4)\n",
    "lgb_jm.fit(X1m_train, y1m_train)\n",
    "\n",
    "churnI_jm_accuracy['Gradient boosting']['Training'] = lgb_jm.best_score_\n",
    "churnI_jm_accuracy['Gradient boosting']['Testing'] = lgb_jm.score(X1m_test,y1m_test)\n",
    "\n",
    "print(\"Tuned hyperparameters :\",lgb_jm.best_params_)\n",
    "print(\"Accuracy on training data:\",churnI_jm_accuracy['Gradient boosting']['Training'])\n",
    "print(\"Accuracy on test data:\",churnI_jm_accuracy['Gradient boosting']['Testing'])"
   ]
  },
  {
   "cell_type": "markdown",
   "id": "1cfd44a2",
   "metadata": {},
   "source": [
    "We can still obtain a very accurate model without `Last Presence`."
   ]
  },
  {
   "cell_type": "code",
   "execution_count": 29,
   "id": "055e8507",
   "metadata": {
    "scrolled": true
   },
   "outputs": [
    {
     "data": {
      "image/png": "[encoded data removed]",
      "text/plain": [
       "<Figure size 400x300 with 2 Axes>"
      ]
     },
     "metadata": {},
     "output_type": "display_data"
    }
   ],
   "source": [
    "plot_confusion_matrix(y1m_test,lgb_jm.predict(X1m_test),title='Gradient Boosting')"
   ]
  },
  {
   "cell_type": "code",
   "execution_count": 30,
   "id": "950c403b",
   "metadata": {},
   "outputs": [],
   "source": [
    "lgb_jm_fi = permutation_importance(lgb_jm, X1m_train, y1m_train, n_repeats=500,scoring='accuracy',random_state=91)\n",
    "lgb_jm_fi_p = barplot_colours(lgb_jm_fi.importances)"
   ]
  },
  {
   "cell_type": "markdown",
   "id": "0f9c0093",
   "metadata": {},
   "source": [
    "### Random forest"
   ]
  },
  {
   "cell_type": "code",
   "execution_count": 31,
   "id": "31cedcd9",
   "metadata": {},
   "outputs": [],
   "source": [
    "rf_parameters = {'criterion': ['entropy'],\n",
    "                     'n_estimators': [50], 'min_samples_split': [8],\n",
    "                     'min_samples_leaf': [2], 'max_depth': [1],\n",
    "                     'min_impurity_decrease': [0.05, 0.1, 0.2, 0.3, 0.4],'ccp_alpha':[0, 0.1], 'max_features': ['sqrt']}"
   ]
  },
  {
   "cell_type": "code",
   "execution_count": 32,
   "id": "ce1384cd",
   "metadata": {
    "scrolled": true
   },
   "outputs": [
    {
     "name": "stdout",
     "output_type": "stream",
     "text": [
      "Tuned hyperparameters : {'ccp_alpha': 0, 'criterion': 'entropy', 'max_depth': 1, 'max_features': 'sqrt', 'min_impurity_decrease': 0.05, 'min_samples_leaf': 2, 'min_samples_split': 8, 'n_estimators': 50}\n",
      "Accuracy on training data: 0.95\n",
      "Accuracy on test data:  0.8888888888888888\n"
     ]
    }
   ],
   "source": [
    "rf_jm = GridSearchCV(\n",
    "    RandomForestClassifier(random_state=67),\n",
    "    rf_parameters, cv=4,n_jobs=4)\n",
    "\n",
    "rf_jm.fit(X1m_train,y1m_train)\n",
    "\n",
    "churnI_jm_accuracy['Random forest']['Training'] = rf_jm.best_score_\n",
    "churnI_jm_accuracy['Random forest']['Testing'] = rf_jm.score(X1m_test,y1m_test)\n",
    "\n",
    "print(\"Tuned hyperparameters :\",rf_jm.best_params_)\n",
    "print(\"Accuracy on training data:\",churnI_jm_accuracy['Random forest']['Training'])\n",
    "print(\"Accuracy on test data: \", churnI_jm_accuracy['Random forest']['Testing'])"
   ]
  },
  {
   "cell_type": "code",
   "execution_count": 33,
   "id": "7c45d241",
   "metadata": {},
   "outputs": [
    {
     "data": {
      "image/png": "[encoded data removed]",
      "text/plain": [
       "<Figure size 400x300 with 2 Axes>"
      ]
     },
     "metadata": {},
     "output_type": "display_data"
    }
   ],
   "source": [
    "plot_confusion_matrix(y1m_test,rf_jm.predict(X1m_test),title='Random Forest')"
   ]
  },
  {
   "cell_type": "code",
   "execution_count": 34,
   "id": "f19ac292",
   "metadata": {
    "scrolled": true
   },
   "outputs": [],
   "source": [
    "rf_jm_fi = permutation_importance(rf_jm, X1m_train, y1m_train,n_repeats=500,scoring='accuracy',random_state=91)\n",
    "rf_jm_fi_p = barplot_colours(rf_jm_fi.importances)"
   ]
  },
  {
   "cell_type": "code",
   "execution_count": 35,
   "id": "a1a5e623",
   "metadata": {},
   "outputs": [
    {
     "data": {
      "text/html": [
       "<div>\n",
       "<style scoped>\n",
       "    .dataframe tbody tr th:only-of-type {\n",
       "        vertical-align: middle;\n",
       "    }\n",
       "\n",
       "    .dataframe tbody tr th {\n",
       "        vertical-align: top;\n",
       "    }\n",
       "\n",
       "    .dataframe thead th {\n",
       "        text-align: right;\n",
       "    }\n",
       "</style>\n",
       "<table border=\"1\" class=\"dataframe\">\n",
       "  <thead>\n",
       "    <tr style=\"text-align: right;\">\n",
       "      <th></th>\n",
       "      <th>Gradient boosting</th>\n",
       "      <th>Random forest</th>\n",
       "    </tr>\n",
       "  </thead>\n",
       "  <tbody>\n",
       "    <tr>\n",
       "      <th>Training</th>\n",
       "      <td>0.95</td>\n",
       "      <td>0.95</td>\n",
       "    </tr>\n",
       "    <tr>\n",
       "      <th>Testing</th>\n",
       "      <td>0.888889</td>\n",
       "      <td>0.888889</td>\n",
       "    </tr>\n",
       "  </tbody>\n",
       "</table>\n",
       "</div>"
      ],
      "text/plain": [
       "         Gradient boosting Random forest\n",
       "Training              0.95          0.95\n",
       "Testing           0.888889      0.888889"
      ]
     },
     "execution_count": 35,
     "metadata": {},
     "output_type": "execute_result"
    }
   ],
   "source": [
    "churnI_jm_accuracy"
   ]
  },
  {
   "cell_type": "markdown",
   "id": "d023094a",
   "metadata": {},
   "source": [
    "Both models are equally accurate, and still very accurate, without `Last Presence`."
   ]
  },
  {
   "cell_type": "code",
   "execution_count": 36,
   "id": "f64410fc",
   "metadata": {},
   "outputs": [
    {
     "data": {
      "text/plain": [
       "Text(0.5, 1.0, 'Random Forest')"
      ]
     },
     "execution_count": 36,
     "metadata": {},
     "output_type": "execute_result"
    },
    {
     "data": {
      "image/png": "[encoded data removed]",
      "text/plain": [
       "<Figure size 900x200 with 2 Axes>"
      ]
     },
     "metadata": {},
     "output_type": "display_data"
    }
   ],
   "source": [
    "fig, ax = plt.subplots(1,2,figsize=(9,2),sharey=True)\n",
    "\n",
    "ax[0].barh(X1m.columns,lgb_jm_fi.importances_mean,xerr=lgb_jm_fi.importances_std,capsize=4,color=lgb_jm_fi_p['colour'])\n",
    "ax[0].set_xlabel('Feature importance')\n",
    "ax[0].set_title('Gradient Boosting')\n",
    "\n",
    "ax[1].barh(X1m.columns,rf_jm_fi.importances_mean,xerr=rf_jm_fi.importances_std,capsize=4,color=rf_jm_fi_p['colour'])\n",
    "ax[1].set_xlabel('Feature importance')\n",
    "ax[1].set_title('Random Forest')"
   ]
  },
  {
   "cell_type": "markdown",
   "id": "fad7ecf5",
   "metadata": {},
   "source": [
    "Without `Last Presence`, `Meetings Attended` is, unsurprisingly, the most important feature in predicting member churn.\n",
    "<font color='red'> Red bars indicate the importances that are statistically significant. </a>\n",
    "\n",
    "`Joined`, how long ago the member has joined the club, shows up as statistically significant in the random forest model."
   ]
  },
  {
   "cell_type": "markdown",
   "id": "5ae55353",
   "metadata": {},
   "source": [
    "## Using `Last Presence` and `Joined`\n",
    "\n",
    "I am now substituting `Last Presence` for `Meetings Attended` to check how multicollinearity might influence the result we have first seen, in which both features were included. This analysis, alongside the previous one, shall bring us insight regarding the most impactful feature in predicting churn between these very correlated features.\n",
    "\n",
    "### Gradient boosting"
   ]
  },
  {
   "cell_type": "code",
   "execution_count": 37,
   "id": "38768e06",
   "metadata": {
    "scrolled": false
   },
   "outputs": [
    {
     "name": "stdout",
     "output_type": "stream",
     "text": [
      "Tuned hyperparameters : {'boosting_type': 'gbdt', 'colsample_bytree': 0.2, 'deterministic': False, 'force_col_wise': True, 'learning_rate': 0.1, 'max_depth': 1, 'min_child_samples': 5, 'min_data_in_bin': 2, 'min_split_gain': 0.5, 'n_estimators': 50, 'objective': 'binary', 'verbose': -1}\n",
      "Accuracy on training data: 0.95\n",
      "Accuracy on test data: 0.8888888888888888\n"
     ]
    }
   ],
   "source": [
    "lgbm_parameters = {'objective': ['binary'],\n",
    "                  'boosting_type': ['gbdt'],\n",
    "                  'n_estimators': [50],\n",
    "                  'learning_rate': [0.1],\n",
    "                  'deterministic': [False],\n",
    "                  'force_col_wise': [True],\n",
    "                  'max_depth': [1, 2],\n",
    "                  'colsample_bytree': [0.2, 0.3, 1/3],\n",
    "                  'min_split_gain': [0.5, 0.6],\n",
    "                  'min_child_samples': [3, 4, 5],\n",
    "                  'min_data_in_bin': [2, 3, 4],\n",
    "                   'verbose': [-1]\n",
    "                  }\n",
    "\n",
    "lgb_jp = GridSearchCV(lgb.LGBMClassifier(random_state=32), lgbm_parameters, cv=4)\n",
    "lgb_jp.fit(X1p_train, y1p_train)\n",
    "\n",
    "churnI_jp_accuracy['Gradient boosting']['Training'] = lgb_jp.best_score_\n",
    "churnI_jp_accuracy['Gradient boosting']['Testing'] = lgb_jp.score(X1p_test,y1p_test)\n",
    "\n",
    "print(\"Tuned hyperparameters :\",lgb_jp.best_params_)\n",
    "print(\"Accuracy on training data:\",churnI_jp_accuracy['Gradient boosting']['Training'])\n",
    "print(\"Accuracy on test data:\",churnI_jp_accuracy['Gradient boosting']['Testing'])"
   ]
  },
  {
   "cell_type": "markdown",
   "id": "ef1db9c3",
   "metadata": {},
   "source": [
    "We again see a very accurate model, this time without `Meetings Attended`."
   ]
  },
  {
   "cell_type": "code",
   "execution_count": 38,
   "id": "6fb7e2d4",
   "metadata": {
    "scrolled": true
   },
   "outputs": [
    {
     "data": {
      "image/png": "[encoded data removed]",
      "text/plain": [
       "<Figure size 400x300 with 2 Axes>"
      ]
     },
     "metadata": {},
     "output_type": "display_data"
    }
   ],
   "source": [
    "plot_confusion_matrix(y1p_test,lgb_jp.predict(X1p_test),title='Gradient Boosting')"
   ]
  },
  {
   "cell_type": "code",
   "execution_count": 39,
   "id": "bfbb1da0",
   "metadata": {},
   "outputs": [],
   "source": [
    "lgb_jp_fi = permutation_importance(lgb_jp, X1p_train, y1p_train,n_repeats=500,scoring='accuracy',random_state=91)\n",
    "lgb_jp_fi_p = barplot_colours(lgb_jp_fi.importances)"
   ]
  },
  {
   "cell_type": "markdown",
   "id": "ed6e9126",
   "metadata": {},
   "source": [
    "### Random forest"
   ]
  },
  {
   "cell_type": "code",
   "execution_count": 40,
   "id": "08dee682",
   "metadata": {
    "scrolled": true
   },
   "outputs": [
    {
     "name": "stdout",
     "output_type": "stream",
     "text": [
      "Tuned hyperparameters : {'criterion': 'entropy', 'max_depth': 1, 'max_features': 'sqrt', 'min_impurity_decrease': 0.05, 'min_samples_leaf': 3, 'min_samples_split': 5, 'n_estimators': 50}\n",
      "Accuracy on training data: 0.95\n",
      "Accuracy on test data:  0.8888888888888888\n"
     ]
    }
   ],
   "source": [
    "#Random state 32\n",
    "rf_parameters = {'criterion': ['entropy'],\n",
    "                     'n_estimators': [50], 'min_samples_split': [5, 6, 7],\n",
    "                     'min_samples_leaf': [3, 4, 5], 'max_depth': [1, 2, 3],\n",
    "                     'min_impurity_decrease': [0.05, 0.1, 0.2], 'max_features': ['sqrt', 'log2']}\n",
    "\n",
    "rf_jp = GridSearchCV(\n",
    "    RandomForestClassifier(random_state=32),\n",
    "    rf_parameters, cv=4,n_jobs=4)\n",
    "\n",
    "rf_jp.fit(X1p_train,y1p_train)\n",
    "\n",
    "churnI_jp_accuracy['Random forest']['Training'] = rf_jp.best_score_\n",
    "churnI_jp_accuracy['Random forest']['Testing'] = rf_jp.score(X1p_test,y1p_test)\n",
    "\n",
    "print(\"Tuned hyperparameters :\",rf_jp.best_params_)\n",
    "print(\"Accuracy on training data:\",rf_jp.best_score_)\n",
    "print(\"Accuracy on test data: \", rf_jp.score(X1p_test,y1p_test))"
   ]
  },
  {
   "cell_type": "markdown",
   "id": "f73a695c",
   "metadata": {},
   "source": [
    "Again a very accurate model both in train and test data."
   ]
  },
  {
   "cell_type": "code",
   "execution_count": 41,
   "id": "bba184fc",
   "metadata": {
    "scrolled": false
   },
   "outputs": [],
   "source": [
    "rf_jp_fi = permutation_importance(rf_jp, X1p_train, y1p_train,n_repeats=500,scoring='accuracy',random_state=91)\n",
    "rf_jp_fi_p = barplot_colours(rf_jp_fi.importances)"
   ]
  },
  {
   "cell_type": "code",
   "execution_count": 42,
   "id": "1623e34f",
   "metadata": {
    "scrolled": true
   },
   "outputs": [
    {
     "data": {
      "image/png": "[encoded data removed]",
      "text/plain": [
       "<Figure size 400x300 with 2 Axes>"
      ]
     },
     "metadata": {},
     "output_type": "display_data"
    }
   ],
   "source": [
    "plot_confusion_matrix(y1p_test,rf_jp.predict(X1p_test),title='Random Forest')"
   ]
  },
  {
   "cell_type": "code",
   "execution_count": 43,
   "id": "5ec572bc",
   "metadata": {},
   "outputs": [
    {
     "data": {
      "text/html": [
       "<div>\n",
       "<style scoped>\n",
       "    .dataframe tbody tr th:only-of-type {\n",
       "        vertical-align: middle;\n",
       "    }\n",
       "\n",
       "    .dataframe tbody tr th {\n",
       "        vertical-align: top;\n",
       "    }\n",
       "\n",
       "    .dataframe thead th {\n",
       "        text-align: right;\n",
       "    }\n",
       "</style>\n",
       "<table border=\"1\" class=\"dataframe\">\n",
       "  <thead>\n",
       "    <tr style=\"text-align: right;\">\n",
       "      <th></th>\n",
       "      <th>Gradient boosting</th>\n",
       "      <th>Random forest</th>\n",
       "    </tr>\n",
       "  </thead>\n",
       "  <tbody>\n",
       "    <tr>\n",
       "      <th>Training</th>\n",
       "      <td>0.95</td>\n",
       "      <td>0.95</td>\n",
       "    </tr>\n",
       "    <tr>\n",
       "      <th>Testing</th>\n",
       "      <td>0.888889</td>\n",
       "      <td>0.888889</td>\n",
       "    </tr>\n",
       "  </tbody>\n",
       "</table>\n",
       "</div>"
      ],
      "text/plain": [
       "         Gradient boosting Random forest\n",
       "Training              0.95          0.95\n",
       "Testing           0.888889      0.888889"
      ]
     },
     "execution_count": 43,
     "metadata": {},
     "output_type": "execute_result"
    }
   ],
   "source": [
    "churnI_jp_accuracy"
   ]
  },
  {
   "cell_type": "markdown",
   "id": "d18011e2",
   "metadata": {},
   "source": [
    "Both models are equally accurate, and still very accurate, without `Meetings Attended`."
   ]
  },
  {
   "cell_type": "code",
   "execution_count": 44,
   "id": "bbf1bff3",
   "metadata": {},
   "outputs": [
    {
     "data": {
      "text/plain": [
       "Text(0.5, 1.0, 'Random Forest')"
      ]
     },
     "execution_count": 44,
     "metadata": {},
     "output_type": "execute_result"
    },
    {
     "data": {
      "image/png": "[encoded data removed]",
      "text/plain": [
       "<Figure size 900x200 with 2 Axes>"
      ]
     },
     "metadata": {},
     "output_type": "display_data"
    }
   ],
   "source": [
    "fig, ax = plt.subplots(1,2,figsize=(9,2),sharey=True)\n",
    "\n",
    "ax[0].barh(X1p.columns,lgb_jp_fi.importances_mean,xerr=lgb_jp_fi.importances_std, capsize=4,color=lgb_jp_fi_p['colour'])\n",
    "ax[0].set_xlabel('Feature importance')\n",
    "ax[0].set_title('Gradient Boosting')\n",
    "\n",
    "ax[1].barh(X1p.columns,rf_jp_fi.importances_mean,xerr=rf_jp_fi.importances_std, capsize=4,color=rf_jp_fi_p['colour'])\n",
    "ax[1].set_xlabel('Feature importance')\n",
    "ax[1].set_title('Random Forest')"
   ]
  },
  {
   "cell_type": "markdown",
   "id": "d10d1658",
   "metadata": {},
   "source": [
    "In both models `Last Presence` is the only important feature. We can also see that when `Last Presence` is in the analysis, the importance of `Joined` goes down to a flat zero. This result is consistent with the importances seen when the three features were included."
   ]
  },
  {
   "cell_type": "markdown",
   "id": "21e37feb",
   "metadata": {},
   "source": [
    "From this first part of the churn prediction, it is clear that the most important feature we can use to predict whether a member will stay or leave the club is `Last Presence`, how long ago was the last time the member was present at a meeting. Although this is very correlated with `Meetings Attended`, the fraction of meetings the member has attended, the hiatus since the last meeting clearly holds a major importance.\n",
    "\n",
    "The importance of `Last Presence` is not surprising at all for us who are Toastmasters. It might be surprising though, that this hiatus since the last presence at a meeting is even more important than the fraction of meetings attended as a member."
   ]
  },
  {
   "cell_type": "markdown",
   "id": "8a680f68",
   "metadata": {},
   "source": [
    "### Decision trees\n",
    "\n",
    "Decision trees can give us a more direct interpretation regarding what distinguishes members that stay in the club from members that leave. We here build a decision tree model using the `X1` matrix."
   ]
  },
  {
   "cell_type": "code",
   "execution_count": 45,
   "id": "c1228baf",
   "metadata": {
    "scrolled": true
   },
   "outputs": [
    {
     "name": "stdout",
     "output_type": "stream",
     "text": [
      "Tuned hyperparameters : {'criterion': 'entropy', 'max_depth': 1, 'max_features': 1, 'min_samples_leaf': 6, 'min_samples_split': 10}\n",
      "Accuracy on training data : 1.0\n",
      "Accuracy on test data:  0.8888888888888888\n"
     ]
    }
   ],
   "source": [
    "decision_tree1_parameters = {'criterion':['entropy'],\n",
    "                             'max_depth': [1],\n",
    "                             'max_features': [1],\n",
    "                             'min_samples_leaf': [6],\n",
    "                             'min_samples_split': [10]}\n",
    "\n",
    "dt_cv = GridSearchCV(DecisionTreeClassifier(random_state=18), decision_tree1_parameters, cv=4,scoring='accuracy')\n",
    "dt_cv.fit(X1_train,y1_train)\n",
    "print(\"Tuned hyperparameters :\",dt_cv.best_params_)\n",
    "print(\"Accuracy on training data :\",dt_cv.best_score_)\n",
    "print(\"Accuracy on test data: \", dt_cv.score(X1_test,y1_test))"
   ]
  },
  {
   "cell_type": "markdown",
   "id": "16c16ea6",
   "metadata": {},
   "source": [
    "The accuracy of this decision tree model is $88.9\\%$ in the test data. We only have one false positive in our predictions, i.e., one member we predicted to leave but stayed."
   ]
  },
  {
   "cell_type": "code",
   "execution_count": 46,
   "id": "eb8ea015",
   "metadata": {
    "scrolled": false
   },
   "outputs": [
    {
     "data": {
      "image/png": "[encoded data removed]",
      "text/plain": [
       "<Figure size 400x300 with 2 Axes>"
      ]
     },
     "metadata": {},
     "output_type": "display_data"
    }
   ],
   "source": [
    "churn_prediction_dt1 = dt_cv.predict(X1_test)\n",
    "plot_confusion_matrix(y1_test,churn_prediction_dt1,title='Decision Tree')"
   ]
  },
  {
   "cell_type": "code",
   "execution_count": 47,
   "id": "e2a293f4",
   "metadata": {
    "scrolled": false
   },
   "outputs": [
    {
     "name": "stdout",
     "output_type": "stream",
     "text": [
      "Tuned hyperparameters : {'criterion': 'entropy', 'max_depth': 1, 'max_features': 1, 'min_samples_leaf': 6, 'min_samples_split': 10}\n",
      "Accuracy on training data: 1.0\n",
      "Accuracy on test data:  0.8888888888888888\n"
     ]
    }
   ],
   "source": [
    "dt2_cv = GridSearchCV(DecisionTreeClassifier(random_state=21), decision_tree1_parameters, cv=4,scoring='accuracy')\n",
    "dt2_cv.fit(X1p_train,y1p_train)\n",
    "print(\"Tuned hyperparameters :\",dt2_cv.best_params_)\n",
    "print(\"Accuracy on training data:\",dt2_cv.best_score_)\n",
    "print(\"Accuracy on test data: \", dt2_cv.score(X1p_test,y1p_test))"
   ]
  },
  {
   "cell_type": "markdown",
   "id": "b501bc08",
   "metadata": {},
   "source": [
    "A decision tree model excluding `Meetings Attended` has the exact same accuracy."
   ]
  },
  {
   "cell_type": "code",
   "execution_count": 48,
   "id": "cc5e550c",
   "metadata": {
    "scrolled": false
   },
   "outputs": [
    {
     "data": {
      "image/png": "[encoded data removed]",
      "text/plain": [
       "<Figure size 400x300 with 2 Axes>"
      ]
     },
     "metadata": {},
     "output_type": "display_data"
    }
   ],
   "source": [
    "churn_prediction_dt2 = dt2_cv.predict(X1p_test)\n",
    "plot_confusion_matrix(y1p_test,churn_prediction_dt2,title='Decision tree without Meetings Attended')"
   ]
  },
  {
   "cell_type": "code",
   "execution_count": 49,
   "id": "98bc1630",
   "metadata": {},
   "outputs": [
    {
     "data": {
      "text/plain": [
       "Text(0.5, 1.0, 'Excluding Meetings Attended')"
      ]
     },
     "execution_count": 49,
     "metadata": {},
     "output_type": "execute_result"
    },
    {
     "data": {
      "image/png": "[encoded data removed]",
      "text/plain": [
       "<Figure size 1000x500 with 2 Axes>"
      ]
     },
     "metadata": {},
     "output_type": "display_data"
    }
   ],
   "source": [
    "fig, ax = plt.subplots(1,2,figsize=(10,5))\n",
    "\n",
    "plot_tree(dt_cv.best_estimator_,feature_names = X1.columns,class_names = ['Stayed','Left'],filled=True,rounded=True, ax=ax[0])\n",
    "ax[0].set_title('Including Meetings Attended')\n",
    "\n",
    "plot_tree(dt2_cv.best_estimator_,feature_names = X1p.columns,class_names = ['Stayed','Left'],filled=True,rounded=True, ax=ax[1])\n",
    "ax[1].set_title('Excluding Meetings Attended')"
   ]
  },
  {
   "cell_type": "markdown",
   "id": "7f2a1197",
   "metadata": {},
   "source": [
    "The decision trees above show that members who have been missing meetings for more than $40$ days have left the club. The remaining members stay in the club. We see again that `Last Presence` is the most important feature separating members who stay from members who leave the club. This result is very consistent with what we have seen both in the gradient boosting and in the random forest models.  \n",
    "\n",
    "The decision criterium and accuracy are the same regardless of whether or not `Meetings Attended` is included in the model."
   ]
  },
  {
   "cell_type": "markdown",
   "id": "202860eb",
   "metadata": {},
   "source": [
    "So far, gradient boosting, random forests and decision trees using `Last Presence`, `Meetings Attended` and `Joined` accurately separate members staying from members leaving and show consistently that `Last Presence`, the time passed since their last visit, is the most important feature separating members staying from members leaving. \n",
    "\n",
    "### The decision tree model shows that members missing more than the latest $40$ days of meetings have left the club and the remainder stay at the club.\n",
    "\n",
    "However, I still believe I can gather even more valuable information with the dataset we have. Let's now look at the features regarding meeting roles."
   ]
  },
  {
   "cell_type": "markdown",
   "id": "fe8424ae",
   "metadata": {},
   "source": [
    "<a id='churn2'></a>\n",
    "## Modelling churn II: Using meeting roles only\n",
    "\n",
    "I would like to dig deeper to see if we can obtain more valuable and less intuitive information that distinguishes members who stay from members who leave the club. \n",
    "\n",
    "For that purpose, my aim is to use classification models, using the meeting roles instead. I also will explore two extra classification models, the support vector machine and k-nearest neighbours models. \n",
    "\n",
    "We start here by splitting the meeting role matrix `X2` into a train and a test set."
   ]
  },
  {
   "cell_type": "code",
   "execution_count": 50,
   "id": "3aba9d46",
   "metadata": {},
   "outputs": [
    {
     "name": "stdout",
     "output_type": "stream",
     "text": [
      "19 members in the training set\n",
      "9 members in the test set\n"
     ]
    }
   ],
   "source": [
    "X2_train, X2_test, y2_train, y2_test = train_test_split(X2, y, test_size=0.3, random_state=32, stratify=y)\n",
    "print(len(X2_train),'members in the training set')\n",
    "print(len(X2_test),'members in the test set')"
   ]
  },
  {
   "cell_type": "code",
   "execution_count": 51,
   "id": "f02165e5",
   "metadata": {},
   "outputs": [],
   "source": [
    "churnII_accuracy = pd.DataFrame(columns=['Gradient boosting','Random forest','Support vector machine','K-nearest neighbours','Decision tree'],index=['Training','Testing'])"
   ]
  },
  {
   "cell_type": "markdown",
   "id": "708030e4",
   "metadata": {},
   "source": [
    "### Gradient boosting"
   ]
  },
  {
   "cell_type": "code",
   "execution_count": 52,
   "id": "833397ab",
   "metadata": {
    "scrolled": false
   },
   "outputs": [
    {
     "name": "stdout",
     "output_type": "stream",
     "text": [
      "Tuned hyperparameters : {'boosting_type': 'gbdt', 'colsample_bytree': 0.4, 'deterministic': False, 'force_col_wise': True, 'learning_rate': 0.006, 'max_depth': 1, 'min_child_samples': 3, 'min_data_in_bin': 5, 'min_split_gain': 3, 'n_estimators': 50, 'objective': 'binary', 'verbose': -1}\n",
      "Accuracy on training data: 0.9\n",
      "Accuracy on test data: 0.8888888888888888\n"
     ]
    }
   ],
   "source": [
    "lgbm2_parameters = {'objective': ['binary'],\n",
    "                  'boosting_type': ['gbdt'],\n",
    "                  'n_estimators': [20, 50],\n",
    "                  'learning_rate': [0.006],\n",
    "                  'deterministic': [False],\n",
    "                  'force_col_wise': [True],\n",
    "                  'max_depth': [1, 2],\n",
    "                  'colsample_bytree': [0.3, 0.4],\n",
    "                  'min_split_gain': [3],\n",
    "                  'min_child_samples': [3, 4, 5],\n",
    "                   'min_data_in_bin': [5, 6, 7],\n",
    "                    'verbose':[-1]\n",
    "                  }\n",
    "\n",
    "lgb2_cv = GridSearchCV(lgb.LGBMClassifier(random_state=32), lgbm2_parameters, cv=4)\n",
    "lgb2_cv.fit(X2_train, y2_train)\n",
    "\n",
    "churnII_accuracy['Gradient boosting']['Training'] = lgb2_cv.best_score_\n",
    "churnII_accuracy['Gradient boosting']['Testing'] = lgb2_cv.score(X2_test,y2_test)\n",
    "\n",
    "print(\"Tuned hyperparameters :\",lgb2_cv.best_params_)\n",
    "print(\"Accuracy on training data:\",churnII_accuracy['Gradient boosting']['Training'])\n",
    "print(\"Accuracy on test data:\",churnII_accuracy['Gradient boosting']['Testing'])"
   ]
  },
  {
   "cell_type": "markdown",
   "id": "d72126d2",
   "metadata": {},
   "source": [
    "The gradient boosting model is highly accurate, with $90\\%$ accuracy in the training data and $88.9\\%$ accuracy in the test data."
   ]
  },
  {
   "cell_type": "code",
   "execution_count": 53,
   "id": "73ad22af",
   "metadata": {},
   "outputs": [
    {
     "data": {
      "image/png": "[encoded data removed]",
      "text/plain": [
       "<Figure size 400x300 with 2 Axes>"
      ]
     },
     "metadata": {},
     "output_type": "display_data"
    }
   ],
   "source": [
    "churn_prediction_gb2 = lgb2_cv.predict(X2_test)\n",
    "plot_confusion_matrix(y2_test,churn_prediction_gb2,title='Gradient Boosting')"
   ]
  },
  {
   "cell_type": "code",
   "execution_count": 54,
   "id": "4f9d2a1d",
   "metadata": {},
   "outputs": [],
   "source": [
    "lgb2_cv_fi = permutation_importance(lgb2_cv, X2_train, y2_train,n_repeats=500,scoring='accuracy',random_state=91)\n",
    "lgb2_cv_fi_p = barplot_colours(lgb2_cv_fi.importances)"
   ]
  },
  {
   "cell_type": "markdown",
   "id": "7b6beb85",
   "metadata": {},
   "source": [
    "### Random forest"
   ]
  },
  {
   "cell_type": "code",
   "execution_count": 55,
   "id": "18838e39",
   "metadata": {},
   "outputs": [],
   "source": [
    "rf2_parameters = {'criterion': ['entropy'],\n",
    "                  'n_estimators': [100], 'min_samples_split': [5],\n",
    "                  'min_samples_leaf': [3],\n",
    "                  'min_impurity_decrease': [0.2], 'max_features': [1, 2], 'ccp_alpha':[0.15]}"
   ]
  },
  {
   "cell_type": "code",
   "execution_count": 56,
   "id": "359329bb",
   "metadata": {
    "scrolled": true
   },
   "outputs": [
    {
     "name": "stdout",
     "output_type": "stream",
     "text": [
      "Tuned hyperparameters : {'ccp_alpha': 0.15, 'criterion': 'entropy', 'max_features': 2, 'min_impurity_decrease': 0.2, 'min_samples_leaf': 3, 'min_samples_split': 5, 'n_estimators': 100}\n",
      "Accuracy on training data : 0.85\n",
      "Accuracy on test data: 0.7777777777777778\n"
     ]
    }
   ],
   "source": [
    "rf2_cv = GridSearchCV(\n",
    "    RandomForestClassifier(random_state=35),\n",
    "    rf2_parameters, cv=4,n_jobs=4)\n",
    "rf2_cv.fit(X2_train,y2_train)\n",
    "\n",
    "churnII_accuracy['Random forest']['Training'] = rf2_cv.best_score_\n",
    "churnII_accuracy['Random forest']['Testing'] = rf2_cv.score(X2_test,y2_test)\n",
    "\n",
    "print(\"Tuned hyperparameters :\",rf2_cv.best_params_)\n",
    "print(\"Accuracy on training data :\",churnII_accuracy['Random forest']['Training'])\n",
    "print(\"Accuracy on test data:\",churnII_accuracy['Random forest']['Testing'])"
   ]
  },
  {
   "cell_type": "markdown",
   "id": "13ebfa70",
   "metadata": {},
   "source": [
    "The random forest model here is less accurate than the gradient boosting model, with $85\\%$ accuracy in the training data and $78\\%$ in our test data."
   ]
  },
  {
   "cell_type": "code",
   "execution_count": 57,
   "id": "d2c19f73",
   "metadata": {},
   "outputs": [],
   "source": [
    "rf2_cv_fi = permutation_importance(rf2_cv, X2_train, y2_train,n_repeats=2000,scoring='accuracy',random_state=91)\n",
    "rf2_cv_fi_p = barplot_colours(rf2_cv_fi.importances)"
   ]
  },
  {
   "cell_type": "markdown",
   "id": "734ff697",
   "metadata": {},
   "source": [
    "### Support vector machine"
   ]
  },
  {
   "cell_type": "code",
   "execution_count": 58,
   "id": "27c79370",
   "metadata": {},
   "outputs": [],
   "source": [
    "svm_parameters = {'loss': ['hinge','squared_hinge'],\n",
    "                  'penalty':['l2'],'dual':[False], 'C':[0.26], 'tol':[1e-8],\n",
    "                  'max_iter':[100]}"
   ]
  },
  {
   "cell_type": "code",
   "execution_count": 59,
   "id": "04e73cc9",
   "metadata": {},
   "outputs": [
    {
     "name": "stdout",
     "output_type": "stream",
     "text": [
      "Tuned hyperparameters : {'C': 0.26, 'dual': False, 'loss': 'squared_hinge', 'max_iter': 100, 'penalty': 'l2', 'tol': 1e-08}\n",
      "Accuracy on training data : 0.7875\n",
      "Accuracy on test data: 0.7777777777777778\n"
     ]
    }
   ],
   "source": [
    "svm_cv = GridSearchCV(\n",
    "    LinearSVC(random_state=1),\n",
    "    svm_parameters, cv=4,n_jobs=4)\n",
    "svm_cv.fit(X2_train,y2_train)\n",
    "\n",
    "churnII_accuracy['Support vector machine']['Training'] = svm_cv.best_score_\n",
    "churnII_accuracy['Support vector machine']['Testing'] = svm_cv.score(X2_test,y2_test)\n",
    "\n",
    "print(\"Tuned hyperparameters :\",svm_cv.best_params_)\n",
    "print(\"Accuracy on training data :\",churnII_accuracy['Support vector machine']['Training'])\n",
    "print(\"Accuracy on test data:\",churnII_accuracy['Support vector machine']['Testing'])"
   ]
  },
  {
   "cell_type": "markdown",
   "id": "f1484077",
   "metadata": {},
   "source": [
    "The support vector machine model is also less accurate than the gradient boosting model."
   ]
  },
  {
   "cell_type": "code",
   "execution_count": 60,
   "id": "566fbbff",
   "metadata": {},
   "outputs": [],
   "source": [
    "svm_cv_fi = permutation_importance(svm_cv, X2_train, y2_train,n_repeats=2000,scoring='accuracy',random_state=91)\n",
    "svm_cv_fi_p = barplot_colours(svm_cv_fi.importances)"
   ]
  },
  {
   "cell_type": "markdown",
   "id": "cd9b8df5",
   "metadata": {},
   "source": [
    "### K-nearest neighbours"
   ]
  },
  {
   "cell_type": "code",
   "execution_count": 61,
   "id": "33b6e271",
   "metadata": {},
   "outputs": [],
   "source": [
    "Scaler = StandardScaler()\n",
    "X2_train_transformed = Scaler.fit_transform(X2_train)\n",
    "X2_test_transformed = Scaler.transform(X2_test)"
   ]
  },
  {
   "cell_type": "code",
   "execution_count": 62,
   "id": "a7feb3e7",
   "metadata": {
    "scrolled": false
   },
   "outputs": [
    {
     "name": "stdout",
     "output_type": "stream",
     "text": [
      "Tuned hyperparameters : {'n_neighbors': 6}\n",
      "Accuracy on training data: 0.825\n",
      "Accuracy on test data: 0.7777777777777778\n"
     ]
    }
   ],
   "source": [
    "knn_parameters = {'n_neighbors': [6]}\n",
    "\n",
    "knn_cv = GridSearchCV(\n",
    "    KNeighborsClassifier(),knn_parameters,cv=4)\n",
    "knn_cv.fit(X2_train_transformed,y2_train)\n",
    "\n",
    "churnII_accuracy['K-nearest neighbours']['Training'] = knn_cv.best_score_\n",
    "churnII_accuracy['K-nearest neighbours']['Testing'] = knn_cv.score(X2_test_transformed,y2_test)\n",
    "\n",
    "print(\"Tuned hyperparameters :\",knn_cv.best_params_)\n",
    "print(\"Accuracy on training data:\",churnII_accuracy['K-nearest neighbours']['Training'])\n",
    "print(\"Accuracy on test data:\",churnII_accuracy['K-nearest neighbours']['Testing'])"
   ]
  },
  {
   "cell_type": "markdown",
   "id": "0eb7a0b8",
   "metadata": {},
   "source": [
    "The k-nearest neighbours model is also less accurate than the gradient boosting model."
   ]
  },
  {
   "cell_type": "code",
   "execution_count": 63,
   "id": "79b47f49",
   "metadata": {},
   "outputs": [],
   "source": [
    "knn_cv_fi = permutation_importance(knn_cv, X2_train_transformed, y2_train,n_repeats=2000,scoring='accuracy',random_state=91)\n",
    "knn_cv_fi_p = barplot_colours(knn_cv_fi.importances)"
   ]
  },
  {
   "cell_type": "markdown",
   "id": "c227cf9e",
   "metadata": {},
   "source": [
    "### Decision tree"
   ]
  },
  {
   "cell_type": "code",
   "execution_count": 64,
   "id": "179967fa",
   "metadata": {
    "scrolled": false
   },
   "outputs": [
    {
     "name": "stdout",
     "output_type": "stream",
     "text": [
      "Tuned hyperparameters : {'ccp_alpha': 0, 'criterion': 'entropy', 'max_depth': 2, 'max_features': 5, 'min_impurity_decrease': 0, 'min_samples_leaf': 2, 'min_samples_split': 8}\n",
      "Accuracy on training data : 0.9\n",
      "Accuracy on test data:  0.8888888888888888\n"
     ]
    }
   ],
   "source": [
    "decision_tree2_parameters = {'criterion':['entropy'],\n",
    "                             'max_features': [2, 3, 4, 5],\n",
    "                             'max_depth': [1, 2, 3],\n",
    "                             'min_samples_leaf': [2, 3, 4],\n",
    "                             'min_samples_split': [5, 6, 7, 8],\n",
    "                             'min_impurity_decrease': [0, 0.3, 0.5],\n",
    "                             'ccp_alpha': [0, 0.1, 0.2]}\n",
    "\n",
    "dt3_cv = GridSearchCV(DecisionTreeClassifier(random_state=1), decision_tree2_parameters, cv=4,scoring='accuracy')\n",
    "dt3_cv.fit(X2_train,y2_train)\n",
    "\n",
    "churnII_accuracy['Decision tree']['Training'] = dt3_cv.best_score_\n",
    "churnII_accuracy['Decision tree']['Testing'] = dt3_cv.score(X2_test,y2_test)\n",
    "\n",
    "print(\"Tuned hyperparameters :\",dt3_cv.best_params_)\n",
    "print(\"Accuracy on training data :\",churnII_accuracy['Decision tree']['Training'])\n",
    "print(\"Accuracy on test data: \", churnII_accuracy['Decision tree']['Testing'])"
   ]
  },
  {
   "cell_type": "markdown",
   "id": "f881c8b6",
   "metadata": {},
   "source": [
    "With an accuracy of $90\\%$ in the train set and $88.9\\%$ for the test set, this decision tree model is the only model with an accuracy that is comparable to the one found in the gradient boosting model."
   ]
  },
  {
   "cell_type": "code",
   "execution_count": 65,
   "id": "5a368d4b",
   "metadata": {},
   "outputs": [
    {
     "data": {
      "image/png": "[encoded data removed]",
      "text/plain": [
       "<Figure size 400x300 with 2 Axes>"
      ]
     },
     "metadata": {},
     "output_type": "display_data"
    }
   ],
   "source": [
    "churn_prediction_dt3 = dt3_cv.predict(X2_test)\n",
    "plot_confusion_matrix(y2_test,churn_prediction_dt3,title='Decision Tree')"
   ]
  },
  {
   "cell_type": "markdown",
   "id": "9a0ddfd1",
   "metadata": {},
   "source": [
    "<a id='decision_tree_churn2'></a>"
   ]
  },
  {
   "cell_type": "code",
   "execution_count": 66,
   "id": "d7513361",
   "metadata": {
    "scrolled": false
   },
   "outputs": [
    {
     "data": {
      "text/plain": [
       "[Text(0.6, 0.8333333333333334, 'Evaluator <= 0.022\\nentropy = 0.998\\nsamples = 19\\nvalue = [10, 9]\\nclass = Stayed'),\n",
       " Text(0.4, 0.5, 'Speaker <= 0.079\\nentropy = 0.684\\nsamples = 11\\nvalue = [2, 9]\\nclass = Left'),\n",
       " Text(0.2, 0.16666666666666666, 'entropy = 0.0\\nsamples = 9\\nvalue = [0, 9]\\nclass = Left'),\n",
       " Text(0.6, 0.16666666666666666, 'entropy = 0.0\\nsamples = 2\\nvalue = [2, 0]\\nclass = Stayed'),\n",
       " Text(0.8, 0.5, 'entropy = 0.0\\nsamples = 8\\nvalue = [8, 0]\\nclass = Stayed')]"
      ]
     },
     "execution_count": 66,
     "metadata": {},
     "output_type": "execute_result"
    },
    {
     "data": {
      "image/png": "[encoded data removed]",
      "text/plain": [
       "<Figure size 400x300 with 1 Axes>"
      ]
     },
     "metadata": {},
     "output_type": "display_data"
    }
   ],
   "source": [
    "plot_tree(dt3_cv.best_estimator_,feature_names = X2.columns, class_names = ['Stayed','Left'],filled=True,rounded=True)"
   ]
  },
  {
   "cell_type": "markdown",
   "id": "e2bfbcf8",
   "metadata": {},
   "source": [
    "In the decision tree model, the evaluator role separates most of the members who leave from those who remain in the club. The speaker role separates the remaining members who stay.\n",
    "It is very interesting to realize that the threshold value for the evaluator role is $0.022$. This is equivalent to taking the evaluator role once every $45$ meetings!"
   ]
  },
  {
   "cell_type": "code",
   "execution_count": 67,
   "id": "267596f6",
   "metadata": {},
   "outputs": [
    {
     "data": {
      "text/plain": [
       "45.45454545454546"
      ]
     },
     "execution_count": 67,
     "metadata": {},
     "output_type": "execute_result"
    }
   ],
   "source": [
    "1/0.022"
   ]
  },
  {
   "cell_type": "markdown",
   "id": "c14c1d9c",
   "metadata": {},
   "source": [
    "This means that in general a member that takes on the evaluator role once is very likely to be very committed to his development at the club and remain at the club.\n",
    "\n",
    "On the other hand, the threshold for the speaker role is $0.079$, which is equivalent to deliver a prepared speech every $12$ meetings at least!"
   ]
  },
  {
   "cell_type": "code",
   "execution_count": 68,
   "id": "686d0335",
   "metadata": {},
   "outputs": [
    {
     "data": {
      "text/plain": [
       "12.658227848101266"
      ]
     },
     "execution_count": 68,
     "metadata": {},
     "output_type": "execute_result"
    }
   ],
   "source": [
    "1/0.079"
   ]
  },
  {
   "cell_type": "markdown",
   "id": "0d909ffc",
   "metadata": {},
   "source": [
    "This season has had $22$ meetings, so these values illustrate how important these roles seem to be in separating in the decision tree model the members who have stayed from members who have left."
   ]
  },
  {
   "cell_type": "code",
   "execution_count": 69,
   "id": "f46b480f",
   "metadata": {},
   "outputs": [],
   "source": [
    "dt3_cv_fi = permutation_importance(dt3_cv, X2_train_transformed, y2_train, n_repeats=500, scoring='accuracy',random_state=91)\n",
    "dt3_cv_fi_p = barplot_colours(dt3_cv_fi.importances)"
   ]
  },
  {
   "cell_type": "markdown",
   "id": "c3ad09c6",
   "metadata": {},
   "source": [
    "### Feature importances in all models"
   ]
  },
  {
   "cell_type": "markdown",
   "id": "ef667ca5",
   "metadata": {},
   "source": [
    "The most accurate models we have using meeting roles are the gradient boosting and the decision tree."
   ]
  },
  {
   "cell_type": "code",
   "execution_count": 70,
   "id": "fec116f8",
   "metadata": {},
   "outputs": [
    {
     "data": {
      "text/html": [
       "<div>\n",
       "<style scoped>\n",
       "    .dataframe tbody tr th:only-of-type {\n",
       "        vertical-align: middle;\n",
       "    }\n",
       "\n",
       "    .dataframe tbody tr th {\n",
       "        vertical-align: top;\n",
       "    }\n",
       "\n",
       "    .dataframe thead th {\n",
       "        text-align: right;\n",
       "    }\n",
       "</style>\n",
       "<table border=\"1\" class=\"dataframe\">\n",
       "  <thead>\n",
       "    <tr style=\"text-align: right;\">\n",
       "      <th></th>\n",
       "      <th>Gradient boosting</th>\n",
       "      <th>Random forest</th>\n",
       "      <th>Support vector machine</th>\n",
       "      <th>K-nearest neighbours</th>\n",
       "      <th>Decision tree</th>\n",
       "    </tr>\n",
       "  </thead>\n",
       "  <tbody>\n",
       "    <tr>\n",
       "      <th>Training</th>\n",
       "      <td>0.9</td>\n",
       "      <td>0.85</td>\n",
       "      <td>0.7875</td>\n",
       "      <td>0.825</td>\n",
       "      <td>0.9</td>\n",
       "    </tr>\n",
       "    <tr>\n",
       "      <th>Testing</th>\n",
       "      <td>0.888889</td>\n",
       "      <td>0.777778</td>\n",
       "      <td>0.777778</td>\n",
       "      <td>0.777778</td>\n",
       "      <td>0.888889</td>\n",
       "    </tr>\n",
       "  </tbody>\n",
       "</table>\n",
       "</div>"
      ],
      "text/plain": [
       "         Gradient boosting Random forest Support vector machine  \\\n",
       "Training               0.9          0.85                 0.7875   \n",
       "Testing           0.888889      0.777778               0.777778   \n",
       "\n",
       "         K-nearest neighbours Decision tree  \n",
       "Training                0.825           0.9  \n",
       "Testing              0.777778      0.888889  "
      ]
     },
     "execution_count": 70,
     "metadata": {},
     "output_type": "execute_result"
    }
   ],
   "source": [
    "churnII_accuracy"
   ]
  },
  {
   "cell_type": "markdown",
   "id": "74e42035",
   "metadata": {},
   "source": [
    "In both of those models, we can see that the evaluator role holds major importance in separating members who stay at the club from members who leave. The evaluator role is, in fact, the only role whose importance is <font color = 'red'> statistically significant </a> ."
   ]
  },
  {
   "cell_type": "code",
   "execution_count": 71,
   "id": "2ce6a184",
   "metadata": {},
   "outputs": [
    {
     "data": {
      "text/plain": [
       "Text(0.5, 1.0, 'Decision Tree')"
      ]
     },
     "execution_count": 71,
     "metadata": {},
     "output_type": "execute_result"
    },
    {
     "data": {
      "image/png": "[encoded data removed]",
      "text/plain": [
       "<Figure size 900x300 with 2 Axes>"
      ]
     },
     "metadata": {},
     "output_type": "display_data"
    }
   ],
   "source": [
    "fig, ax = plt.subplots(1,2,figsize=(9,3),sharey=True)\n",
    "\n",
    "ax[0].barh(X2.columns,lgb2_cv_fi.importances_mean,xerr=lgb2_cv_fi.importances_std, capsize=4, color=lgb2_cv_fi_p['colour'])\n",
    "ax[0].set_xlabel('Feature importance')\n",
    "ax[0].set_title('Gradient Boosting')\n",
    "\n",
    "ax[1].barh(X2.columns,dt3_cv_fi.importances_mean, xerr=dt3_cv_fi.importances_std, capsize=4,color=dt3_cv_fi_p['colour'])\n",
    "ax[1].set_xlabel('Feature importance')\n",
    "ax[1].set_title('Decision Tree')"
   ]
  },
  {
   "cell_type": "markdown",
   "id": "fc17be06",
   "metadata": {},
   "source": [
    "According to the gradient boosting model, the table topic speaker `TTS` role seems to hold importance, but we have no statistical significance there. The same happens in the decision tree model, in which the speaker role seems to hold importance, but we find no statistical significance. This observation in the decision tree model is consistent with the [decision tree](#decision_tree_churn2) ."
   ]
  },
  {
   "cell_type": "code",
   "execution_count": 72,
   "id": "5e83112c",
   "metadata": {},
   "outputs": [
    {
     "data": {
      "text/plain": [
       "Text(0.5, 1.0, 'K-nearest neighbours')"
      ]
     },
     "execution_count": 72,
     "metadata": {},
     "output_type": "execute_result"
    },
    {
     "data": {
      "image/png": "[encoded data removed]",
      "text/plain": [
       "<Figure size 1200x300 with 3 Axes>"
      ]
     },
     "metadata": {},
     "output_type": "display_data"
    }
   ],
   "source": [
    "fig, ax = plt.subplots(1,3,figsize=(12,3),sharey=True)\n",
    "ax[0].barh(X2.columns,rf2_cv_fi.importances_mean,xerr=rf2_cv_fi.importances_std, capsize=4, color=rf2_cv_fi_p['colour'])\n",
    "ax[0].set_xlabel('Feature importance')\n",
    "ax[0].set_title('Random Forest')\n",
    "\n",
    "ax[1].barh(X2.columns,svm_cv_fi.importances_mean,xerr=svm_cv_fi.importances_std,capsize=4, color=svm_cv_fi_p['colour'])\n",
    "ax[1].set_xlabel('Feature importance')\n",
    "ax[1].set_title('Support Vector Machine')\n",
    "\n",
    "ax[2].barh(X2.columns,knn_cv_fi.importances_mean,xerr=knn_cv_fi.importances_std, capsize=4, color=knn_cv_fi_p['colour'])\n",
    "ax[2].set_xlabel('Feature importance')\n",
    "ax[2].set_title('K-nearest neighbours')"
   ]
  },
  {
   "cell_type": "markdown",
   "id": "630195f3",
   "metadata": {},
   "source": [
    "In the remainder, less accurate models, no feature has a statistically significant importance."
   ]
  },
  {
   "cell_type": "markdown",
   "id": "250d1609",
   "metadata": {},
   "source": [
    "<a id='discussion'></a>\n",
    "## Discussion\n",
    "\n",
    "Gradient boosting, random forests and decision trees using `Last Presence`, `Meetings Attended` and `Joined` accurately separate members staying from members leaving and show consistently that \n",
    "\n",
    "### the time passed since the member's last visit is the most important feature separating members staying from members leaving. \n",
    "\n",
    "#### The decision tree model shows that \n",
    "### members missing more than the latest $40$ days of meetings have left the club.\n",
    "\n",
    "In a club that meets twice a month, by missing two sessions in a row, a member misses meetings for $28$ days; by missing a third session in a row, the member will be missing over $40$ days of meetings already.\n",
    "\n",
    "#### On the other hand, the most accurate classification models -  gradient boosting and decision tree -  show that \n",
    "\n",
    "### the evaluator role is the most important role separating members that stay from members that leave.\n",
    "\n",
    "In contrast, evidence regarding the importance of speaker and table topic speaker roles is inconsistent. Among the two most accurate models used, the gradient boosting model shows the table topic speaker as an important role and the decision tree model uses the speaker role as an important role, but none of these roles has a statistically significant importance.\n",
    "\n",
    "## I strongly recommend that we encourage members to take on the evaluator role as soon as possible. We also recommend the Club Executive Commitee to engage with members who have been missing more than two Toastmasters meetings in a row.\n",
    "\n",
    "\n",
    "Do members become more commited to their development when they take on the evaluator role?\n",
    "\n",
    "Or do they may take on the evaluator role ever more frequently when they remain committed to their developmental journey?\n",
    "\n",
    "We do not know for sure, but I believe that both hold true."
   ]
  }
 ],
 "metadata": {
  "kernelspec": {
   "display_name": "Python 3 (ipykernel)",
   "language": "python",
   "name": "python3"
  },
  "language_info": {
   "codemirror_mode": {
    "name": "ipython",
    "version": 3
   },
   "file_extension": ".py",
   "mimetype": "text/x-python",
   "name": "python",
   "nbconvert_exporter": "python",
   "pygments_lexer": "ipython3",
   "version": "3.10.9"
  }
 },
 "nbformat": 4,
 "nbformat_minor": 5
}
